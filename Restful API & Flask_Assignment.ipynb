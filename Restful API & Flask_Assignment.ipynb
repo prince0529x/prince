{
 "cells": [
  {
   "cell_type": "markdown",
   "id": "36f351eb-9291-42e7-9667-6885f84e0768",
   "metadata": {},
   "source": [
    "# Restful API & Flask"
   ]
  },
  {
   "cell_type": "markdown",
   "id": "7e0e5b64-8aa7-44e3-bfff-310733b3b58b",
   "metadata": {},
   "source": [
    "### 1.What is a RESTful API?\n",
    "ANS >> A RESTful API is an Application Programming Interface that adheres to REST (Representational State Transfer) principles. It uses standard HTTP methods (GET, POST, PUT, DELETE) to perform operations on resources, which are represented in formats like JSON or XML.\n",
    "\n"
   ]
  },
  {
   "cell_type": "code",
   "execution_count": null,
   "id": "b1b7b2f5-a355-4bd8-8b55-b6014e9ffabd",
   "metadata": {},
   "outputs": [],
   "source": []
  },
  {
   "cell_type": "markdown",
   "id": "6eeb54e7-4127-4491-8c53-9b14317dd587",
   "metadata": {},
   "source": [
    "### 2.Explain the concept of API specification.\n",
    "ANS >> An API specification defines how an API behaves, including:\n",
    "\n",
    " >> Endpoints and their paths\n",
    "\n",
    " >> Supported HTTP methods\n",
    "\n",
    " >> Request and response formats\n",
    "\n",
    " >> Authentication mechanisms\n",
    "Popular tools: OpenAPI (Swagger).\n",
    "\n"
   ]
  },
  {
   "cell_type": "code",
   "execution_count": null,
   "id": "7b620f7e-d69d-4c91-95cc-476d34d05dc7",
   "metadata": {},
   "outputs": [],
   "source": []
  },
  {
   "cell_type": "markdown",
   "id": "3228c9ee-2719-43c6-b347-00f919981348",
   "metadata": {},
   "source": [
    "### 3.What is Flask, and why is it popular for building APIs?\n",
    "ANS >> Flask is a lightweight and flexible Python web framework. It is popular for APIs because:\n",
    "\n",
    " >> Minimal setup and syntax\n",
    "\n",
    " >> Built-in development server\n",
    "\n",
    " >> Easy integration with extensions (e.g., Flask-RESTful, Flask-SQLAlchemy)"
   ]
  },
  {
   "cell_type": "code",
   "execution_count": null,
   "id": "47c80976-6705-4d3d-b342-aadd318db59e",
   "metadata": {},
   "outputs": [],
   "source": []
  },
  {
   "cell_type": "markdown",
   "id": "d480812f-83c1-4a63-80e8-01c5b79c1d31",
   "metadata": {},
   "source": [
    "### 4.What is routing in Flask?\n",
    "ANS >> Routing refers to the mapping of URLs to functions. Flask uses @app.route() to define which function should handle a specific URL request."
   ]
  },
  {
   "cell_type": "code",
   "execution_count": null,
   "id": "934028f8-5231-4991-babd-11546848615c",
   "metadata": {},
   "outputs": [],
   "source": []
  },
  {
   "cell_type": "markdown",
   "id": "71214b51-5ed3-4012-8329-198caee69f90",
   "metadata": {},
   "source": [
    "### 5.How do you create a simple Flask application?"
   ]
  },
  {
   "cell_type": "code",
   "execution_count": 2,
   "id": "2e7634e6-cbbe-4b6f-8348-2f1e87b398c2",
   "metadata": {},
   "outputs": [
    {
     "name": "stdout",
     "output_type": "stream",
     "text": [
      " * Serving Flask app '__main__'\n",
      " * Debug mode: on\n"
     ]
    },
    {
     "name": "stderr",
     "output_type": "stream",
     "text": [
      "WARNING: This is a development server. Do not use it in a production deployment. Use a production WSGI server instead.\n",
      " * Running on http://127.0.0.1:5000\n",
      "Press CTRL+C to quit\n",
      " * Restarting with watchdog (windowsapi)\n"
     ]
    },
    {
     "ename": "SystemExit",
     "evalue": "1",
     "output_type": "error",
     "traceback": [
      "An exception has occurred, use %tb to see the full traceback.\n",
      "\u001b[1;31mSystemExit\u001b[0m\u001b[1;31m:\u001b[0m 1\n"
     ]
    },
    {
     "name": "stderr",
     "output_type": "stream",
     "text": [
      "C:\\ProgramData\\anaconda3\\Lib\\site-packages\\IPython\\core\\interactiveshell.py:3585: UserWarning: To exit: use 'exit', 'quit', or Ctrl-D.\n",
      "  warn(\"To exit: use 'exit', 'quit', or Ctrl-D.\", stacklevel=1)\n"
     ]
    }
   ],
   "source": [
    "#ANS >> \n",
    "\n",
    "from flask import Flask\n",
    "\n",
    "app = Flask(__name__)\n",
    "\n",
    "@app.route('/')\n",
    "def home():\n",
    "    return \"Hello, Flask!\"\n",
    "\n",
    "if __name__ == '__main__':\n",
    "    app.run(debug=True)\n"
   ]
  },
  {
   "cell_type": "code",
   "execution_count": null,
   "id": "e44ab246-5d07-4c93-9356-4fbc5850aa5e",
   "metadata": {},
   "outputs": [],
   "source": []
  },
  {
   "cell_type": "markdown",
   "id": "023fd815-275b-4bf6-b0f2-55fe338ccc9a",
   "metadata": {},
   "source": [
    "### 6.What are HTTP methods used in RESTful APIs?\n",
    "ANS >> \n",
    "\n",
    " >> GET: Retrieve data\n",
    "\n",
    " >> POST: Submit new data\n",
    "\n",
    " >> PUT: Update existing data\n",
    "\n",
    " >> DELETE: Remove data\n",
    "\n",
    " >> PATCH: Partially update data\n",
    "\n"
   ]
  },
  {
   "cell_type": "code",
   "execution_count": null,
   "id": "8ab27133-831b-4e40-978f-6b605365fe72",
   "metadata": {},
   "outputs": [],
   "source": []
  },
  {
   "cell_type": "markdown",
   "id": "f428e21e-fbfc-4468-844d-17e496785d92",
   "metadata": {},
   "source": [
    "### 7.What is the purpose of the @app.route() decorator in Flask?\n",
    "ANS >> It binds a URL path to a view function, so Flask knows what function to run when a particular route is accessed.\n",
    "\n"
   ]
  },
  {
   "cell_type": "code",
   "execution_count": null,
   "id": "0d922bf7-0392-4256-a986-905da267e08a",
   "metadata": {},
   "outputs": [],
   "source": []
  },
  {
   "cell_type": "markdown",
   "id": "aabba68a-007b-4bb1-ac47-5cc3a3b418cf",
   "metadata": {},
   "source": [
    "### 8.What is the difference between GET and POST HTTP methods?\n",
    " ANS >> \n",
    " \n",
    " >> GET: Used to fetch data, parameters sent in the URL.\n",
    "\n",
    " >> POST: Used to send data to the server (e.g., form submission), data sent in the request body."
   ]
  },
  {
   "cell_type": "code",
   "execution_count": null,
   "id": "2187c432-e92d-4a9a-b7bd-0357f37b96ae",
   "metadata": {},
   "outputs": [],
   "source": []
  },
  {
   "cell_type": "markdown",
   "id": "ea7cf854-4159-4885-8e45-99e449fce638",
   "metadata": {},
   "source": [
    "### 9.How do you handle errors in Flask APIs?\n",
    " ANS >> Use Flask’s @app.errorhandler() decorator or abort() function:"
   ]
  },
  {
   "cell_type": "code",
   "execution_count": 3,
   "id": "3bfe836c-d506-4501-b15e-1d07f84ac61a",
   "metadata": {},
   "outputs": [],
   "source": [
    "from flask import abort\n",
    "\n",
    "@app.route('/item/<int:id>')\n",
    "def get_item(id):\n",
    "    if id not in items:\n",
    "        abort(404)\n",
    "    return items[id]\n"
   ]
  },
  {
   "cell_type": "code",
   "execution_count": null,
   "id": "fd84cd72-29a0-4b31-94f6-eb325022e4fa",
   "metadata": {},
   "outputs": [],
   "source": []
  },
  {
   "cell_type": "markdown",
   "id": "645bb49a-ba9c-4bf3-8131-f6b77b36e7d3",
   "metadata": {},
   "source": [
    "### 10.How do you connect Flask to a SQL database?\n",
    "ANS >> Use Flask-SQLAlchemy:"
   ]
  },
  {
   "cell_type": "code",
   "execution_count": 4,
   "id": "d8d79454-8eb9-416b-8d56-0a5148c458bc",
   "metadata": {},
   "outputs": [
    {
     "ename": "ModuleNotFoundError",
     "evalue": "No module named 'flask_sqlalchemy'",
     "output_type": "error",
     "traceback": [
      "\u001b[1;31m---------------------------------------------------------------------------\u001b[0m",
      "\u001b[1;31mModuleNotFoundError\u001b[0m                       Traceback (most recent call last)",
      "Cell \u001b[1;32mIn[4], line 1\u001b[0m\n\u001b[1;32m----> 1\u001b[0m \u001b[38;5;28;01mfrom\u001b[39;00m \u001b[38;5;21;01mflask_sqlalchemy\u001b[39;00m \u001b[38;5;28;01mimport\u001b[39;00m SQLAlchemy\n\u001b[0;32m      3\u001b[0m app\u001b[38;5;241m.\u001b[39mconfig[\u001b[38;5;124m'\u001b[39m\u001b[38;5;124mSQLALCHEMY_DATABASE_URI\u001b[39m\u001b[38;5;124m'\u001b[39m] \u001b[38;5;241m=\u001b[39m \u001b[38;5;124m'\u001b[39m\u001b[38;5;124msqlite:///data.db\u001b[39m\u001b[38;5;124m'\u001b[39m\n\u001b[0;32m      4\u001b[0m db \u001b[38;5;241m=\u001b[39m SQLAlchemy(app)\n",
      "\u001b[1;31mModuleNotFoundError\u001b[0m: No module named 'flask_sqlalchemy'"
     ]
    }
   ],
   "source": [
    "from flask_sqlalchemy import SQLAlchemy\n",
    "\n",
    "app.config['SQLALCHEMY_DATABASE_URI'] = 'sqlite:///data.db'\n",
    "db = SQLAlchemy(app)\n"
   ]
  },
  {
   "cell_type": "code",
   "execution_count": null,
   "id": "bfe5f4a9-dddc-46a5-b146-18c7afa922b2",
   "metadata": {},
   "outputs": [],
   "source": []
  },
  {
   "cell_type": "markdown",
   "id": "8b369f3f-d991-4f38-a9d5-1677ca19818f",
   "metadata": {},
   "source": [
    "### 11.What is the role of Flask-SQLAlchemy?\n",
    "ANS >> It is an ORM (Object Relational Mapper) extension for Flask. It simplifies interaction with SQL databases using Python classes instead of raw SQL."
   ]
  },
  {
   "cell_type": "code",
   "execution_count": null,
   "id": "b0bee795-470d-4b90-83d6-f389f8212b3f",
   "metadata": {},
   "outputs": [],
   "source": []
  },
  {
   "cell_type": "markdown",
   "id": "6fcadbe5-8167-4603-b4bf-5477e186aa71",
   "metadata": {},
   "source": [
    "### 12.What are Flask blueprints, and how are they useful?\n",
    "ANS >> Blueprints allow modularizing a Flask app. They help structure large applications by grouping related views, templates, and static files.\n",
    "\n"
   ]
  },
  {
   "cell_type": "code",
   "execution_count": null,
   "id": "59196025-4258-409f-bd41-8fccce20c8e6",
   "metadata": {},
   "outputs": [],
   "source": []
  },
  {
   "cell_type": "markdown",
   "id": "007b9f0e-4697-46ff-9eea-64d3675bebd2",
   "metadata": {},
   "source": [
    "### 13.What is the purpose of Flask's request object?\n",
    "ANS >> It holds data about the incoming request such as:\n",
    "\n",
    " >> HTTP method\n",
    "\n",
    " >> Form data\n",
    "\n",
    " >> Query parameters\n",
    "\n",
    " >> JSON payload"
   ]
  },
  {
   "cell_type": "code",
   "execution_count": null,
   "id": "90e70fe2-2294-4ff2-aeab-83205b647196",
   "metadata": {},
   "outputs": [],
   "source": []
  },
  {
   "cell_type": "markdown",
   "id": "4bfc9094-c2d2-4cbc-a96d-1df5208a6046",
   "metadata": {},
   "source": [
    "### 14.How do you create a RESTful API endpoint using Flask?"
   ]
  },
  {
   "cell_type": "code",
   "execution_count": 6,
   "id": "973430e9-f8c4-4719-b329-0e6b451ce521",
   "metadata": {},
   "outputs": [],
   "source": [
    "#ANS \n",
    "\n",
    "@app.route('/api/data', methods=['GET'])\n",
    "def get_data():\n",
    "    return jsonify({\"message\": \"Success\"})\n"
   ]
  },
  {
   "cell_type": "code",
   "execution_count": null,
   "id": "8a93aa4d-a48b-4801-8c82-50b1af7fc49d",
   "metadata": {},
   "outputs": [],
   "source": []
  },
  {
   "cell_type": "markdown",
   "id": "4992321a-790b-4117-a62d-a21991d88eb5",
   "metadata": {},
   "source": [
    "### 15. What is the purpose of Flask’s jsonify() function?\n",
    "ANS >> It converts Python dictionaries into JSON responses and sets the correct Content-Type header.\n",
    "\n"
   ]
  },
  {
   "cell_type": "code",
   "execution_count": null,
   "id": "0af4e934-1971-49a0-a962-72969d3c327f",
   "metadata": {},
   "outputs": [],
   "source": []
  },
  {
   "cell_type": "markdown",
   "id": "32499dda-e711-43ea-9c64-6705dae3d0f2",
   "metadata": {},
   "source": [
    "### 16.Explain Flask’s url_for() function.\n",
    "ANS >> Generates a URL to a view function by its name, allowing dynamic URLs:"
   ]
  },
  {
   "cell_type": "code",
   "execution_count": 7,
   "id": "c5a69334-946c-4a4b-a61e-d012d8b80585",
   "metadata": {},
   "outputs": [
    {
     "ename": "NameError",
     "evalue": "name 'url_for' is not defined",
     "output_type": "error",
     "traceback": [
      "\u001b[1;31m---------------------------------------------------------------------------\u001b[0m",
      "\u001b[1;31mNameError\u001b[0m                                 Traceback (most recent call last)",
      "Cell \u001b[1;32mIn[7], line 1\u001b[0m\n\u001b[1;32m----> 1\u001b[0m url_for(\u001b[38;5;124m'\u001b[39m\u001b[38;5;124mhome\u001b[39m\u001b[38;5;124m'\u001b[39m)\n",
      "\u001b[1;31mNameError\u001b[0m: name 'url_for' is not defined"
     ]
    }
   ],
   "source": [
    "url_for('home')  # returns '/'\n"
   ]
  },
  {
   "cell_type": "code",
   "execution_count": null,
   "id": "4860db7c-0dfa-41a7-b350-7edb18d02fa4",
   "metadata": {},
   "outputs": [],
   "source": []
  },
  {
   "cell_type": "markdown",
   "id": "b33633a2-eda4-41e5-bbaa-ad17be0bc2db",
   "metadata": {},
   "source": [
    "### 17.How does Flask handle static files (CSS, JavaScript, etc.)?\n",
    "ANS >> Flask serves static files from the static/ folder automatically:"
   ]
  },
  {
   "cell_type": "code",
   "execution_count": 8,
   "id": "93524cd5-fe68-4965-84eb-8fed976dec72",
   "metadata": {},
   "outputs": [
    {
     "ename": "SyntaxError",
     "evalue": "invalid syntax (2639956066.py, line 1)",
     "output_type": "error",
     "traceback": [
      "\u001b[1;36m  Cell \u001b[1;32mIn[8], line 1\u001b[1;36m\u001b[0m\n\u001b[1;33m    <link rel=\"stylesheet\" href=\"{{ url_for('static', filename='style.css') }}\">\u001b[0m\n\u001b[1;37m    ^\u001b[0m\n\u001b[1;31mSyntaxError\u001b[0m\u001b[1;31m:\u001b[0m invalid syntax\n"
     ]
    }
   ],
   "source": [
    "<link rel=\"stylesheet\" href=\"{{ url_for('static', filename='style.css') }}\">\n"
   ]
  },
  {
   "cell_type": "code",
   "execution_count": null,
   "id": "0cc51dc1-041d-43ed-98c6-32a46d90b6e8",
   "metadata": {},
   "outputs": [],
   "source": []
  },
  {
   "cell_type": "markdown",
   "id": "d6dda9f3-d723-446e-809c-fed178394c30",
   "metadata": {},
   "source": [
    "### 18.What is an API specification, and how does it help in building a Flask API?\n",
    "ANS >> An API spec (like OpenAPI) acts as a contract. It helps developers understand:\n",
    "\n",
    " >> What endpoints exist\n",
    "\n",
    " >> What data to send/receive\n",
    "\n",
    " >> Expected responses\n",
    "It improves collaboration and automation (e.g., Swagger UI)."
   ]
  },
  {
   "cell_type": "code",
   "execution_count": null,
   "id": "0eca6094-53a4-476e-8a2e-be398ce618ac",
   "metadata": {},
   "outputs": [],
   "source": []
  },
  {
   "cell_type": "markdown",
   "id": "a91dafb2-8e50-426b-a6fe-5a0170fe4200",
   "metadata": {},
   "source": [
    "### 19.What are HTTP status codes, and why are they important in a Flask API?\n",
    "ANS >> They indicate the result of an HTTP request:\n",
    "\n",
    " >> 200 OK: Success\n",
    "\n",
    " >> 201 Created: Resource added\n",
    "\n",
    " >> 400 Bad Request: Client error\n",
    "\n",
    " >> 404 Not Found: Resource missing\n",
    "\n",
    " >> 500 Internal Server Error: Server-side failure\n",
    "\n",
    " They guide clients on how to handle responses."
   ]
  },
  {
   "cell_type": "code",
   "execution_count": null,
   "id": "1367562b-2430-4fa3-a5c3-0eee30a00fe9",
   "metadata": {},
   "outputs": [],
   "source": []
  },
  {
   "cell_type": "markdown",
   "id": "e5f432e3-e43e-46c3-9ad2-ab558762b1bb",
   "metadata": {},
   "source": [
    "### 20. How do you handle POST requests in Flask?"
   ]
  },
  {
   "cell_type": "code",
   "execution_count": 9,
   "id": "10618164-4c0b-41f7-9d36-c1fa83fc3187",
   "metadata": {},
   "outputs": [],
   "source": [
    "#ANS >>\n",
    "\n",
    "@app.route('/submit', methods=['POST'])\n",
    "def submit():\n",
    "    data = request.json\n",
    "    return jsonify({\"received\": data}), 201\n"
   ]
  },
  {
   "cell_type": "code",
   "execution_count": null,
   "id": "62f0026d-0c57-4744-b8b6-48c162755463",
   "metadata": {},
   "outputs": [],
   "source": []
  },
  {
   "cell_type": "markdown",
   "id": "fd1b758b-b870-4542-a6f9-76aa6c1edba5",
   "metadata": {},
   "source": [
    "### 21. How would you secure a Flask API?\n",
    "ANS >> \n",
    "\n",
    " >> Use HTTPS\n",
    "\n",
    " >> Validate input data\n",
    "\n",
    " >> Use authentication (e.g., JWT, OAuth)\n",
    "\n",
    " >> Rate limiting\n",
    "\n",
    " >> Protect against CSRF and CORS issues"
   ]
  },
  {
   "cell_type": "code",
   "execution_count": null,
   "id": "dca2b9b4-83e8-46da-8eaf-f7c629f14fa1",
   "metadata": {},
   "outputs": [],
   "source": []
  },
  {
   "cell_type": "markdown",
   "id": "aa3e9b59-b71b-42b9-82ee-6cf4faf76523",
   "metadata": {},
   "source": [
    "### 22.What is the significance of the Flask-RESTful extension?\n",
    "ANS >> It simplifies API development by:\n",
    "\n",
    " >> Organizing code into resources\n",
    "\n",
    " >> Handling request parsing and response formatting\n",
    "\n",
    " >> Auto-generating status codes"
   ]
  },
  {
   "cell_type": "code",
   "execution_count": null,
   "id": "85e5c532-df9b-4ab4-b6fa-3ae2b65df456",
   "metadata": {},
   "outputs": [],
   "source": []
  },
  {
   "cell_type": "markdown",
   "id": "61ee2f9d-22a7-4d65-8b8e-3e73093c1d19",
   "metadata": {},
   "source": [
    "### 23.What is the role of Flask’s session object?\n",
    "ANS >> It stores data across requests using secure cookies. Useful for:\n",
    "\n",
    " >> Storing user login state\n",
    "\n",
    " >> Temporary messages"
   ]
  },
  {
   "cell_type": "code",
   "execution_count": 10,
   "id": "4625f6ac-ddaa-4fc0-b2d8-961c63006ccb",
   "metadata": {},
   "outputs": [
    {
     "ename": "RuntimeError",
     "evalue": "Working outside of request context.\n\nThis typically means that you attempted to use functionality that needed\nan active HTTP request. Consult the documentation on testing for\ninformation about how to avoid this problem.",
     "output_type": "error",
     "traceback": [
      "\u001b[1;31m---------------------------------------------------------------------------\u001b[0m",
      "\u001b[1;31mRuntimeError\u001b[0m                              Traceback (most recent call last)",
      "Cell \u001b[1;32mIn[10], line 3\u001b[0m\n\u001b[0;32m      1\u001b[0m \u001b[38;5;28;01mfrom\u001b[39;00m \u001b[38;5;21;01mflask\u001b[39;00m \u001b[38;5;28;01mimport\u001b[39;00m session\n\u001b[1;32m----> 3\u001b[0m session[\u001b[38;5;124m'\u001b[39m\u001b[38;5;124musername\u001b[39m\u001b[38;5;124m'\u001b[39m] \u001b[38;5;241m=\u001b[39m \u001b[38;5;124m'\u001b[39m\u001b[38;5;124mPrince\u001b[39m\u001b[38;5;124m'\u001b[39m\n",
      "File \u001b[1;32mC:\\ProgramData\\anaconda3\\Lib\\site-packages\\werkzeug\\local.py:318\u001b[0m, in \u001b[0;36m_ProxyLookup.__get__\u001b[1;34m(self, instance, owner)\u001b[0m\n\u001b[0;32m    315\u001b[0m     \u001b[38;5;28;01mreturn\u001b[39;00m \u001b[38;5;28mself\u001b[39m\n\u001b[0;32m    317\u001b[0m \u001b[38;5;28;01mtry\u001b[39;00m:\n\u001b[1;32m--> 318\u001b[0m     obj \u001b[38;5;241m=\u001b[39m instance\u001b[38;5;241m.\u001b[39m_get_current_object()\n\u001b[0;32m    319\u001b[0m \u001b[38;5;28;01mexcept\u001b[39;00m \u001b[38;5;167;01mRuntimeError\u001b[39;00m:\n\u001b[0;32m    320\u001b[0m     \u001b[38;5;28;01mif\u001b[39;00m \u001b[38;5;28mself\u001b[39m\u001b[38;5;241m.\u001b[39mfallback \u001b[38;5;129;01mis\u001b[39;00m \u001b[38;5;28;01mNone\u001b[39;00m:\n",
      "File \u001b[1;32mC:\\ProgramData\\anaconda3\\Lib\\site-packages\\werkzeug\\local.py:519\u001b[0m, in \u001b[0;36mLocalProxy.__init__.<locals>._get_current_object\u001b[1;34m()\u001b[0m\n\u001b[0;32m    517\u001b[0m     obj \u001b[38;5;241m=\u001b[39m local\u001b[38;5;241m.\u001b[39mget()\n\u001b[0;32m    518\u001b[0m \u001b[38;5;28;01mexcept\u001b[39;00m \u001b[38;5;167;01mLookupError\u001b[39;00m:\n\u001b[1;32m--> 519\u001b[0m     \u001b[38;5;28;01mraise\u001b[39;00m \u001b[38;5;167;01mRuntimeError\u001b[39;00m(unbound_message) \u001b[38;5;28;01mfrom\u001b[39;00m \u001b[38;5;28;01mNone\u001b[39;00m\n\u001b[0;32m    521\u001b[0m \u001b[38;5;28;01mreturn\u001b[39;00m get_name(obj)\n",
      "\u001b[1;31mRuntimeError\u001b[0m: Working outside of request context.\n\nThis typically means that you attempted to use functionality that needed\nan active HTTP request. Consult the documentation on testing for\ninformation about how to avoid this problem."
     ]
    }
   ],
   "source": [
    "from flask import session\n",
    "\n",
    "session['username'] = 'Prince'\n"
   ]
  },
  {
   "cell_type": "code",
   "execution_count": null,
   "id": "9b965dca-5e42-4342-93be-4e9261102d04",
   "metadata": {},
   "outputs": [],
   "source": []
  },
  {
   "cell_type": "markdown",
   "id": "7905c680-0a70-406c-987c-df88a77f356c",
   "metadata": {},
   "source": [
    "# Practical"
   ]
  },
  {
   "cell_type": "code",
   "execution_count": null,
   "id": "71124e08-48b3-491f-a707-c05160671423",
   "metadata": {},
   "outputs": [],
   "source": [
    "#1. How do you create a basic Flask application?\n",
    "\n",
    "from flask import Flask\n",
    "\n",
    "app = Flask(__name__)  # Create Flask application instance\n",
    "\n",
    "@app.route('/')  # Define route for the home page\n",
    "def home():\n",
    "    return \"Hello, Flask!\"  # Response shown in browser\n",
    "\n",
    "if __name__ == '__main__':\n",
    "    app.run(debug=True)  # Run the app in debug mode\n"
   ]
  },
  {
   "cell_type": "code",
   "execution_count": null,
   "id": "b6abf190-95ad-488f-9d57-3611f9172a4d",
   "metadata": {},
   "outputs": [],
   "source": []
  },
  {
   "cell_type": "code",
   "execution_count": null,
   "id": "6febc96b-c99a-4494-a93c-e1f0b6be3cda",
   "metadata": {},
   "outputs": [],
   "source": [
    "#2. How do you serve static files like images or CSS in Flask?\n",
    "\n",
    "from flask import Flask, render_template_string, url_for\n",
    "\n",
    "app = Flask(__name__)\n",
    "\n",
    "@app.route('/')\n",
    "def home():\n",
    "    return render_template_string(\"\"\"\n",
    "    <html>\n",
    "      <head>\n",
    "        <link rel=\"stylesheet\" href=\"{{ url_for('static', filename='style.css') }}\">\n",
    "      </head>\n",
    "      <body>\n",
    "        <h1>Hello with CSS and Image!</h1>\n",
    "        <img src=\"{{ url_for('static', filename='image.jpg') }}\" alt=\"Image\">\n",
    "      </body>\n",
    "    </html>\n",
    "    \"\"\")\n",
    "    \n",
    "if __name__ == '__main__':\n",
    "    app.run(debug=True)\n"
   ]
  },
  {
   "cell_type": "code",
   "execution_count": null,
   "id": "087b0432-d746-4e03-9c77-b756a92b3265",
   "metadata": {},
   "outputs": [],
   "source": []
  },
  {
   "cell_type": "code",
   "execution_count": null,
   "id": "aa6d3a48-fdfb-4b48-9691-7ec4c319f3bb",
   "metadata": {},
   "outputs": [],
   "source": [
    "#3. How do you define different routes with different HTTP methods in Flask?\n",
    "\n",
    "from flask import Flask, request\n",
    "\n",
    "app = Flask(__name__)\n",
    "\n",
    "@app.route('/submit', methods=['GET', 'POST'])\n",
    "def submit():\n",
    "    if request.method == 'POST':\n",
    "        name = request.form.get('name')\n",
    "        return f\"Hello, {name}! (POST)\"\n",
    "    else:  # GET request\n",
    "        return '''\n",
    "            <form method=\"POST\">\n",
    "                <input type=\"text\" name=\"name\">\n",
    "                <input type=\"submit\" value=\"Submit\">\n",
    "            </form>\n",
    "        '''\n",
    "\n",
    "if __name__ == '__main__':\n",
    "    app.run(debug=True)\n"
   ]
  },
  {
   "cell_type": "code",
   "execution_count": null,
   "id": "847407a5-b056-4714-8c02-8a019d067373",
   "metadata": {},
   "outputs": [],
   "source": []
  },
  {
   "cell_type": "code",
   "execution_count": null,
   "id": "cdf18881-6854-4b93-a17d-c4374e703cd3",
   "metadata": {},
   "outputs": [],
   "source": [
    "#4. How do you render HTML templates in Flask?\n",
    "\n",
    "from flask import Flask, render_template\n",
    "\n",
    "app = Flask(__name__)\n",
    "\n",
    "@app.route('/')\n",
    "def home():\n",
    "    return render_template('index.html', name='Prince')\n",
    "    \n",
    "if __name__ == '__main__':\n",
    "    app.run(debug=True)\n"
   ]
  },
  {
   "cell_type": "code",
   "execution_count": null,
   "id": "75a7d9cf-3b7f-456c-9726-0eef76d99f0b",
   "metadata": {},
   "outputs": [],
   "source": []
  },
  {
   "cell_type": "code",
   "execution_count": null,
   "id": "140a4a7c-b4ea-4653-bce3-3f01a3118ae0",
   "metadata": {},
   "outputs": [],
   "source": [
    "#5. How can you generate URLs for routes in Flask using url_for?\n",
    "\n",
    "from flask import Flask, url_for, redirect\n",
    "\n",
    "app = Flask(__name__)\n",
    "\n",
    "@app.route('/')\n",
    "def home():\n",
    "    return 'Welcome to the Home Page!'\n",
    "\n",
    "@app.route('/about')\n",
    "def about():\n",
    "    return 'This is the About Page.'\n",
    "\n",
    "@app.route('/go-to-about')\n",
    "def go_to_about():\n",
    "    # Redirect to the 'about' route\n",
    "    return redirect(url_for('about'))\n",
    "\n",
    "if __name__ == '__main__':\n",
    "    app.run(debug=True)\n"
   ]
  },
  {
   "cell_type": "code",
   "execution_count": null,
   "id": "f0c5a83b-c024-4a50-b141-e14fd951a75e",
   "metadata": {},
   "outputs": [],
   "source": []
  },
  {
   "cell_type": "code",
   "execution_count": null,
   "id": "9025b844-17c8-454b-8e73-9d2d7ab0f81a",
   "metadata": {},
   "outputs": [],
   "source": [
    "#6.How do you handle forms in Flask?\n",
    "\n",
    "from flask import Flask, request, render_template\n",
    "\n",
    "app = Flask(__name__)\n",
    "\n",
    "@app.route('/', methods=['GET', 'POST'])\n",
    "def index():\n",
    "    if request.method == 'POST':\n",
    "        name = request.form.get('username')  # Get value from form\n",
    "        return f'Hello, {name}!'\n",
    "    return render_template('form.html')  # Show form on GET\n",
    "\n",
    "if __name__ == '__main__':\n",
    "    app.run(debug=True)\n"
   ]
  },
  {
   "cell_type": "code",
   "execution_count": null,
   "id": "3c5b6c77-eef3-4dfd-b7b5-d5293c329218",
   "metadata": {},
   "outputs": [],
   "source": []
  },
  {
   "cell_type": "code",
   "execution_count": null,
   "id": "a1e48f17-3464-4ede-b8b9-6b1a78a0d1c5",
   "metadata": {},
   "outputs": [],
   "source": [
    "#7. How can you validate form data in Flask?\n",
    "\n",
    "from flask import Flask, render_template, request\n",
    "\n",
    "app = Flask(__name__)\n",
    "\n",
    "@app.route('/', methods=['GET', 'POST'])\n",
    "def index():\n",
    "    error = ''\n",
    "    if request.method == 'POST':\n",
    "        username = request.form.get('username')\n",
    "        if not username:\n",
    "            error = 'Username is required.'\n",
    "        else:\n",
    "            return f'Welcome, {username}!'\n",
    "    return render_template('form.html', error=error)\n"
   ]
  },
  {
   "cell_type": "code",
   "execution_count": null,
   "id": "5d4e1532-d16b-4d54-bc3e-0f282effc2c6",
   "metadata": {},
   "outputs": [],
   "source": []
  },
  {
   "cell_type": "code",
   "execution_count": null,
   "id": "13f07651-501c-4540-b9fd-feb447714011",
   "metadata": {},
   "outputs": [],
   "source": [
    "#8. How do you manage sessions in Flask?\n",
    "\n",
    "from flask import Flask, session, redirect, url_for, request, render_template\n",
    "\n",
    "app = Flask(__name__)\n",
    "app.secret_key = 'my_secret_key'  # Needed to use sessions securely\n",
    "\n",
    "@app.route('/')\n",
    "def home():\n",
    "    if 'username' in session:\n",
    "        return f\"Welcome, {session['username']}! <br><a href='/logout'>Logout</a>\"\n",
    "    return \"You are not logged in. <a href='/login'>Login</a>\"\n",
    "\n",
    "@app.route('/login', methods=['GET', 'POST'])\n",
    "def login():\n",
    "    if request.method == 'POST':\n",
    "        session['username'] = request.form['username']  # Set session variable\n",
    "        return redirect(url_for('home'))\n",
    "    return '''\n",
    "        <form method=\"POST\">\n",
    "            <input type=\"text\" name=\"username\" placeholder=\"Enter Username\">\n",
    "            <input type=\"submit\" value=\"Login\">\n",
    "        </form>\n",
    "    '''\n",
    "\n",
    "@app.route('/logout')\n",
    "def logout():\n",
    "    session.pop('username', None)  # Remove user from session\n",
    "    return redirect(url_for('home'))\n",
    "\n",
    "if __name__ == '__main__':\n",
    "    app.run(debug=True)\n"
   ]
  },
  {
   "cell_type": "code",
   "execution_count": null,
   "id": "95050e85-a1e1-4d05-96ab-21b7846a497d",
   "metadata": {},
   "outputs": [],
   "source": []
  },
  {
   "cell_type": "code",
   "execution_count": null,
   "id": "d9f31ed6-9467-4848-8ad2-d5855ca95f35",
   "metadata": {},
   "outputs": [],
   "source": [
    "#9.How do you redirect to a different route in Flask?\n",
    "\n",
    "from flask import Flask, redirect, url_for\n",
    "\n",
    "app = Flask(__name__)\n",
    "\n",
    "@app.route('/')\n",
    "def home():\n",
    "    return \"Welcome to the Home Page!\"\n",
    "\n",
    "@app.route('/login')\n",
    "def login():\n",
    "    return \"Please log in here.\"\n",
    "\n",
    "@app.route('/go-to-login')\n",
    "def go_to_login():\n",
    "    return redirect(url_for('login'))  # Redirects to /login\n",
    "\n",
    "if __name__ == '__main__':\n",
    "    app.run(debug=True)\n"
   ]
  },
  {
   "cell_type": "code",
   "execution_count": null,
   "id": "1ffc52b8-0003-4359-9faf-563cd7c33af6",
   "metadata": {},
   "outputs": [],
   "source": []
  },
  {
   "cell_type": "code",
   "execution_count": null,
   "id": "a274be76-7968-4636-8d75-0e8e07cab3ca",
   "metadata": {},
   "outputs": [],
   "source": [
    "#10. How do you handle errors in Flask (e.g., 404)?\n",
    "\n",
    "from flask import Flask, render_template\n",
    "\n",
    "app = Flask(__name__)\n",
    "\n",
    "@app.route('/')\n",
    "def home():\n",
    "    return 'Welcome to the Home Page!'\n",
    "\n",
    "# Custom handler for 404\n",
    "@app.errorhandler(404)\n",
    "def page_not_found(error):\n",
    "    return render_template('404.html'), 404\n",
    "\n",
    "if __name__ == '__main__':\n",
    "    app.run(debug=True)\n"
   ]
  },
  {
   "cell_type": "code",
   "execution_count": null,
   "id": "f276c3b6-b3a0-41f4-b00b-fc42ee4a5e3f",
   "metadata": {},
   "outputs": [],
   "source": []
  },
  {
   "cell_type": "code",
   "execution_count": null,
   "id": "accaa7d8-1d7c-4e69-9330-227ce1bdec8e",
   "metadata": {},
   "outputs": [],
   "source": [
    "#11.How do you structure a Flask app using Blueprints?\n",
    "\n",
    "️#1. user/routes.py — Define a Blueprint\n",
    "from flask import Blueprint, render_template\n",
    "\n",
    "user_bp = Blueprint('user', __name__, url_prefix='/user')\n",
    "\n",
    "@user_bp.route('/')\n",
    "def user_home():\n",
    "    return render_template('user_home.html')\n",
    "\n",
    "\n",
    "#2.app.py — Register the Blueprint\n",
    "from flask import Flask\n",
    "from user.routes import user_bp\n",
    "\n",
    "app = Flask(__name__)\n",
    "app.register_blueprint(user_bp)\n",
    "\n",
    "@app.route('/')\n",
    "def home():\n",
    "    return \"Main Home Page\"\n",
    "\n",
    "if __name__ == '__main__':\n",
    "    app.run(debug=True)\n"
   ]
  },
  {
   "cell_type": "code",
   "execution_count": null,
   "id": "1f9f0cf8-6b4e-4da5-af82-86fb5c209efc",
   "metadata": {},
   "outputs": [],
   "source": []
  },
  {
   "cell_type": "code",
   "execution_count": null,
   "id": "d0ddeb60-7c06-4cc6-b9af-1ac80fc6b28b",
   "metadata": {},
   "outputs": [],
   "source": [
    "#12.How do you define a custom Jinja filter in Flask?\n",
    "\n",
    "from flask import Flask, render_template\n",
    "\n",
    "app = Flask(__name__)\n",
    "\n",
    "# Define custom filter\n",
    "def reverse_string(s):\n",
    "    return s[::-1]\n",
    "\n",
    "# Register custom filter\n",
    "app.jinja_env.filters['reverse'] = reverse_string\n",
    "\n",
    "@app.route('/')\n",
    "def home():\n",
    "    name = \"Prince\"\n",
    "    return render_template('index.html', name=name)\n",
    "\n",
    "if __name__ == '__main__':\n",
    "    app.run(debug=True)\n"
   ]
  },
  {
   "cell_type": "code",
   "execution_count": null,
   "id": "5da58b1e-7c04-40f9-be30-0f13d7e48b68",
   "metadata": {},
   "outputs": [],
   "source": []
  },
  {
   "cell_type": "code",
   "execution_count": null,
   "id": "b9b3eb47-5070-46ef-8306-b5515fa5ad69",
   "metadata": {},
   "outputs": [],
   "source": [
    "#13.How can you redirect with query parameters in Flask?\n",
    "\n",
    "from flask import Flask, redirect, url_for, request\n",
    "\n",
    "app = Flask(__name__)\n",
    "\n",
    "@app.route('/')\n",
    "def home():\n",
    "    return 'Home Page'\n",
    "\n",
    "@app.route('/search')\n",
    "def search():\n",
    "    query = request.args.get('q')\n",
    "    return f\"Search results for: {query}\"\n",
    "\n",
    "@app.route('/go-to-search')\n",
    "def go_to_search():\n",
    "    # Redirect with query parameters (?q=flask)\n",
    "    return redirect(url_for('search', q='flask'))\n",
    "\n",
    "if __name__ == '__main__':\n",
    "    app.run(debug=True)\n"
   ]
  },
  {
   "cell_type": "code",
   "execution_count": null,
   "id": "dbbb2329-3478-46c8-8d8e-f5f758cb14ff",
   "metadata": {},
   "outputs": [],
   "source": []
  },
  {
   "cell_type": "code",
   "execution_count": null,
   "id": "0f8dc62f-722f-41ea-a193-953a7e41b24a",
   "metadata": {},
   "outputs": [],
   "source": [
    "#14. How do you return JSON responses in Flask?\n",
    "\n",
    "#1.Using jsonify()\n",
    "\n",
    "from flask import Flask, jsonify\n",
    "\n",
    "app = Flask(__name__)\n",
    "\n",
    "@app.route('/api/user')\n",
    "def get_user():\n",
    "    user = {\n",
    "        'name': 'Prince',\n",
    "        'age': 22,\n",
    "        'email': 'prince@example.com'\n",
    "    }\n",
    "    return jsonify(user)  # Converts dict to JSON and sets Content-Type\n",
    "\n",
    "if __name__ == '__main__':\n",
    "    app.run(debug=True)\n",
    "\n",
    "\n",
    "#2.Using json.dumps() + Response()\n",
    "\n",
    "import json\n",
    "from flask import Flask, Response\n",
    "\n",
    "app = Flask(__name__)\n",
    "\n",
    "@app.route('/api/data')\n",
    "def data():\n",
    "    data = {'status': 'success'}\n",
    "    return Response(json.dumps(data), mimetype='application/json')\n"
   ]
  },
  {
   "cell_type": "code",
   "execution_count": null,
   "id": "baf049e0-0530-439c-acd1-652ab5ad86cb",
   "metadata": {},
   "outputs": [],
   "source": []
  },
  {
   "cell_type": "code",
   "execution_count": null,
   "id": "afd68676-d1f8-48ba-9579-f82bcd4545c7",
   "metadata": {},
   "outputs": [],
   "source": [
    "#15.How do you capture URL parameters in Flask?\n",
    "\n",
    "#Example 1: Basic URL Parameter\n",
    "from flask import Flask\n",
    "\n",
    "app = Flask(__name__)\n",
    "\n",
    "@app.route('/user/<username>')\n",
    "def show_user(username):\n",
    "    return f\"Hello, {username}!\"\n",
    "\n",
    "#Example 2: Typed Parameters (int, float, path)\n",
    "@app.route('/post/<int:post_id>')\n",
    "def show_post(post_id):\n",
    "    return f\"Post ID: {post_id}\"\n"
   ]
  },
  {
   "cell_type": "code",
   "execution_count": null,
   "id": "619e4ee9-40e5-4b34-a222-6e1c5eb9566c",
   "metadata": {},
   "outputs": [],
   "source": []
  },
  {
   "cell_type": "markdown",
   "id": "bf3e3204-7cbc-48ef-8a8e-47359c917315",
   "metadata": {},
   "source": [
    "# Thank You\n"
   ]
  },
  {
   "cell_type": "code",
   "execution_count": null,
   "id": "30d28893-922d-4144-908f-8bae04ead5fd",
   "metadata": {},
   "outputs": [],
   "source": []
  }
 ],
 "metadata": {
  "kernelspec": {
   "display_name": "Python 3 (ipykernel)",
   "language": "python",
   "name": "python3"
  },
  "language_info": {
   "codemirror_mode": {
    "name": "ipython",
    "version": 3
   },
   "file_extension": ".py",
   "mimetype": "text/x-python",
   "name": "python",
   "nbconvert_exporter": "python",
   "pygments_lexer": "ipython3",
   "version": "3.12.7"
  }
 },
 "nbformat": 4,
 "nbformat_minor": 5
}
