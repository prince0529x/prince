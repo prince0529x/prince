{
 "cells": [
  {
   "cell_type": "markdown",
   "id": "183ba3db-1c31-4ada-8967-07b0849f445e",
   "metadata": {},
   "source": [
    "# Python OOPs Questions"
   ]
  },
  {
   "cell_type": "markdown",
   "id": "5d2acb83-3d22-4b5a-bbc3-57d2fbb24419",
   "metadata": {},
   "source": [
    "### 1. What is Object-Oriented Programming (OOP)?\n",
    "ANS >>> OOP is a programming paradigm based on the concept of \"objects\", which can contain data (attributes) and code (methods). It promotes code reuse, modularity, and abstraction."
   ]
  },
  {
   "cell_type": "markdown",
   "id": "69938f27-affe-4c23-83e3-fcef083d0021",
   "metadata": {},
   "source": []
  },
  {
   "cell_type": "markdown",
   "id": "f054476f-73ae-41dd-9e77-e7e837741636",
   "metadata": {},
   "source": [
    "### 2. What is a class in OOP?\n",
    "ANS >>> A class is a blueprint for creating objects. It defines a set of attributes and methods that the created objects (instances) will have."
   ]
  },
  {
   "cell_type": "code",
   "execution_count": 2,
   "id": "71fc16b7-d1d1-4ba9-bf05-c77fdac8a31e",
   "metadata": {},
   "outputs": [],
   "source": [
    "#Example:\n",
    "class Dog:\n",
    "    def __init__(self, name):\n",
    "        self.name = name\n",
    "    def bark(self):\n",
    "        print(f\"{self.name} says woof!\")"
   ]
  },
  {
   "cell_type": "code",
   "execution_count": null,
   "id": "ad40ba8e-6b6a-4a2d-937f-123f99982808",
   "metadata": {},
   "outputs": [],
   "source": []
  },
  {
   "cell_type": "markdown",
   "id": "0ac30b9d-6462-4ef8-ab98-355c397cfe3c",
   "metadata": {},
   "source": [
    "### 3.What is an object in OOP?\n",
    "ANS >>> An object is an instance of a class. It represents a real-world entity with state and behavior."
   ]
  },
  {
   "cell_type": "code",
   "execution_count": 3,
   "id": "ce000a3d-7c2d-4f71-8450-bde796586e59",
   "metadata": {},
   "outputs": [
    {
     "name": "stdout",
     "output_type": "stream",
     "text": [
      "Buddy says woof!\n"
     ]
    }
   ],
   "source": [
    "#Example\n",
    "d = Dog(\"Buddy\")  # d is an object\n",
    "d.bark()\n"
   ]
  },
  {
   "cell_type": "code",
   "execution_count": null,
   "id": "ec891327-227a-4e60-9939-33bae88f21c9",
   "metadata": {},
   "outputs": [],
   "source": []
  },
  {
   "cell_type": "markdown",
   "id": "8e9c6310-ff5c-48cd-8a05-36346388cbdb",
   "metadata": {},
   "source": [
    "### 4.What is the difference between abstraction and encapsulation?\n",
    "ANS >>> Abstraction: Hiding complex implementation details and showing only the necessary features.\n",
    "\n",
    "Encapsulation: Wrapping data and methods into a single unit (class) and restricting direct access to some of the object's components."
   ]
  },
  {
   "cell_type": "code",
   "execution_count": null,
   "id": "748de4d8-bb57-4eb9-a3af-b6b45b128217",
   "metadata": {},
   "outputs": [],
   "source": []
  },
  {
   "cell_type": "markdown",
   "id": "db42d5ba-ef29-4bb8-abeb-6edc52878e61",
   "metadata": {},
   "source": [
    "### 5.What are dunder methods in Python?\n",
    "ANS >>> Dunder methods (e.g., __init__, __str__, __repr__) are special methods with double underscores. They provide special behavior to classes."
   ]
  },
  {
   "cell_type": "code",
   "execution_count": null,
   "id": "621d4d82-24a9-413c-ac4d-5d48ef28222d",
   "metadata": {},
   "outputs": [],
   "source": []
  },
  {
   "cell_type": "markdown",
   "id": "57c40e32-a193-484e-8712-0c951a474cf6",
   "metadata": {},
   "source": [
    "### 6. Explain the concept of inheritance in OOP.\n",
    "ANS >>> Inheritance allows a class (child/derived) to inherit attributes and methods from another class (parent/base)."
   ]
  },
  {
   "cell_type": "code",
   "execution_count": 4,
   "id": "e963b5de-3778-4fe1-953c-3fec6c8b9e25",
   "metadata": {},
   "outputs": [],
   "source": [
    "#Example\n",
    "class Animal:\n",
    "    def speak(self):\n",
    "        print(\"Animal speaks\")\n",
    "\n",
    "class Dog(Animal):\n",
    "    def speak(self):\n",
    "        print(\"Dog barks\")\n"
   ]
  },
  {
   "cell_type": "code",
   "execution_count": null,
   "id": "b15db8d4-c69c-4405-a616-ea75a89b55bd",
   "metadata": {},
   "outputs": [],
   "source": []
  },
  {
   "cell_type": "markdown",
   "id": "58f23676-045a-469f-af78-e8d442363654",
   "metadata": {},
   "source": [
    "### 7.What is polymorphism in OOP?\n",
    "ANS >>> Polymorphism means the same method name can have different behaviors depending on the object."
   ]
  },
  {
   "cell_type": "code",
   "execution_count": 5,
   "id": "d73d192d-cfe5-43d6-8b87-0fa97d2a6d58",
   "metadata": {},
   "outputs": [
    {
     "name": "stdout",
     "output_type": "stream",
     "text": [
      "Meow\n",
      "Woof\n"
     ]
    }
   ],
   "source": [
    "#Example\n",
    "class Cat:\n",
    "    def sound(self): print(\"Meow\")\n",
    "class Dog:\n",
    "    def sound(self): print(\"Woof\")\n",
    "\n",
    "for pet in [Cat(), Dog()]:\n",
    "    pet.sound()\n"
   ]
  },
  {
   "cell_type": "code",
   "execution_count": null,
   "id": "e9f261f2-91fa-4fd5-9872-4259855a14f3",
   "metadata": {},
   "outputs": [],
   "source": []
  },
  {
   "cell_type": "markdown",
   "id": "b684ef59-a0a1-437f-8cdd-50590b6528c0",
   "metadata": {},
   "source": [
    "### 8. How is encapsulation achieved in Python?\n",
    "ANS >>> By using private variables and providing getter/setter methods."
   ]
  },
  {
   "cell_type": "code",
   "execution_count": 6,
   "id": "c273dac2-4c0b-47db-8a85-e8cdc0304fb6",
   "metadata": {},
   "outputs": [],
   "source": [
    "#Example\n",
    "class Bank:\n",
    "    def __init__(self):\n",
    "        self.__balance = 1000\n"
   ]
  },
  {
   "cell_type": "code",
   "execution_count": null,
   "id": "2e1e9163-43b8-43e3-8ab9-e1c2e6847779",
   "metadata": {},
   "outputs": [],
   "source": []
  },
  {
   "cell_type": "markdown",
   "id": "d1aa5592-93a0-4126-98a1-8b08271e41fe",
   "metadata": {},
   "source": [
    "### 9.What is a constructor in Python?\n",
    "ANS >>> The __init__() method is the constructor. It is called when an object is created."
   ]
  },
  {
   "cell_type": "code",
   "execution_count": 7,
   "id": "0710acd3-1f05-4418-afc4-847c3a3952c6",
   "metadata": {},
   "outputs": [],
   "source": [
    "#Example\n",
    "class Student:\n",
    "    def __init__(self, name):\n",
    "        self.name = name\n"
   ]
  },
  {
   "cell_type": "code",
   "execution_count": null,
   "id": "231f3ebc-4148-4c09-b767-b14442a395ff",
   "metadata": {},
   "outputs": [],
   "source": []
  },
  {
   "cell_type": "markdown",
   "id": "acc6fe4a-09e8-4e79-b3d2-a3088bbbd730",
   "metadata": {},
   "source": [
    "### 10.What are class and static methods in Python?\n",
    "ANS >>> @classmethod: Receives the class (cls) as a parameter.\n",
    "\n",
    "@staticmethod: Doesn't receive class or instance reference."
   ]
  },
  {
   "cell_type": "code",
   "execution_count": 8,
   "id": "c6c56f41-f16c-464f-800b-c6ba0e12828f",
   "metadata": {},
   "outputs": [],
   "source": [
    "#Example\n",
    "class Example:\n",
    "    @classmethod\n",
    "    def show_cls(cls): print(\"Class method\")\n",
    "\n",
    "    @staticmethod\n",
    "    def show_static(): print(\"Static method\")\n"
   ]
  },
  {
   "cell_type": "code",
   "execution_count": null,
   "id": "900b7122-ee0b-4adc-b5f3-7cf297420ceb",
   "metadata": {},
   "outputs": [],
   "source": []
  },
  {
   "cell_type": "markdown",
   "id": "86f491c9-1f90-4086-a31a-1c88d309bd15",
   "metadata": {},
   "source": [
    "### 11.What is method overloading in Python?\n",
    "ANS >>> Python doesn’t support traditional method overloading. You can simulate it using default or variable-length arguments."
   ]
  },
  {
   "cell_type": "code",
   "execution_count": 9,
   "id": "e682f6ae-dda4-41ee-978f-039db141036c",
   "metadata": {},
   "outputs": [],
   "source": [
    "#Example \n",
    "class Calculator:\n",
    "    def add(self, a, b=0):\n",
    "        return a + b\n"
   ]
  },
  {
   "cell_type": "code",
   "execution_count": null,
   "id": "954647a9-5c77-47d4-af22-44437c1eeb70",
   "metadata": {},
   "outputs": [],
   "source": []
  },
  {
   "cell_type": "markdown",
   "id": "de44a97b-bae4-4158-b233-cf58fdfbe7b9",
   "metadata": {},
   "source": [
    "### 12.What is method overriding in OOP?\n",
    "ANS >>> When a subclass provides its own version of a method from the superclass."
   ]
  },
  {
   "cell_type": "code",
   "execution_count": 10,
   "id": "9ab843c5-50f6-452d-b423-1e6b41d13c8e",
   "metadata": {},
   "outputs": [],
   "source": [
    "#Example\n",
    "class Parent:\n",
    "    def greet(self): print(\"Hello from Parent\")\n",
    "\n",
    "class Child(Parent):\n",
    "    def greet(self): print(\"Hello from Child\")\n"
   ]
  },
  {
   "cell_type": "code",
   "execution_count": null,
   "id": "b1c68c8c-84ae-4a6f-9ed2-0d869e3ae033",
   "metadata": {},
   "outputs": [],
   "source": []
  },
  {
   "cell_type": "markdown",
   "id": "bf499d34-5917-4895-bcbe-899b0864b32a",
   "metadata": {},
   "source": [
    "### 13.What is a property decorator in Python?\n",
    "Ans >>> @property allows method access like an attribute, useful for getters."
   ]
  },
  {
   "cell_type": "code",
   "execution_count": 11,
   "id": "30c1c289-3550-417e-9591-693761aec114",
   "metadata": {},
   "outputs": [],
   "source": [
    "#Example\n",
    "class Circle:\n",
    "    def __init__(self, radius):\n",
    "        self._radius = radius\n",
    "\n",
    "    @property\n",
    "    def area(self):\n",
    "        return 3.14 * self._radius ** 2\n"
   ]
  },
  {
   "cell_type": "code",
   "execution_count": null,
   "id": "618d71c7-951d-4cf5-80cd-1738d446afeb",
   "metadata": {},
   "outputs": [],
   "source": []
  },
  {
   "cell_type": "markdown",
   "id": "be8b72f2-5276-4823-8d52-145c3d881c4e",
   "metadata": {},
   "source": [
    "### 14.Why is polymorphism important in OOP?\n",
    "ANS >>> Polymorphism allows objects of different classes to be treated through the same interface, letting the same method or operation work in different ways depending on the object.\n",
    "\n",
    "🔹 Key Reasons Polymorphism is Important:\n",
    "1.Code Reusability:\n",
    "Write generic code that works with different object types.\n",
    "\n",
    "2.Flexibility and Extensibility:\n",
    "New classes can be added with minimal changes to existing code, as long as they implement the expected methods.\n",
    "\n",
    "3.Simplifies Code:\n",
    "Eliminates the need for multiple conditional statements checking object types.\n",
    "\n",
    "4.Improves Maintainability:\n",
    "You can change or extend behavior without modifying existing code.\n",
    "\n"
   ]
  },
  {
   "cell_type": "code",
   "execution_count": 15,
   "id": "063fc4da-7003-42af-ac55-8cfb0e928f7e",
   "metadata": {},
   "outputs": [
    {
     "name": "stdout",
     "output_type": "stream",
     "text": [
      "Squawk!\n",
      "Caw!\n"
     ]
    }
   ],
   "source": [
    "#Example\n",
    "class Bird:\n",
    "    def speak(self):\n",
    "        print(\"Some generic sound\")\n",
    "\n",
    "class Parrot(Bird):\n",
    "    def speak(self):\n",
    "        print(\"Squawk!\")\n",
    "\n",
    "class Crow(Bird):\n",
    "    def speak(self):\n",
    "        print(\"Caw!\")\n",
    "\n",
    "def make_it_speak(bird):\n",
    "    bird.speak()\n",
    "\n",
    "make_it_speak(Parrot())  # Output: Squawk!\n",
    "make_it_speak(Crow())    # Output: Caw!\n"
   ]
  },
  {
   "cell_type": "code",
   "execution_count": null,
   "id": "e3170fee-9517-4587-b97a-5166b01d5ac3",
   "metadata": {},
   "outputs": [],
   "source": []
  },
  {
   "cell_type": "markdown",
   "id": "90b5f7ab-26cd-466f-9797-08c62c66c537",
   "metadata": {},
   "source": [
    "### 15.What is an abstract class in Python?\n",
    "ANS >>> A class that can't be instantiated and may contain abstract methods. Use abc module."
   ]
  },
  {
   "cell_type": "code",
   "execution_count": 12,
   "id": "0ce275ff-bed3-43fb-82a2-f3da1a5cb0ff",
   "metadata": {},
   "outputs": [],
   "source": [
    "#Example \n",
    "from abc import ABC, abstractmethod\n",
    "\n",
    "class Shape(ABC):\n",
    "    @abstractmethod\n",
    "    def area(self):\n",
    "        pass\n"
   ]
  },
  {
   "cell_type": "code",
   "execution_count": null,
   "id": "c744a4b3-5e29-49e8-b319-bac44b0386a3",
   "metadata": {},
   "outputs": [],
   "source": []
  },
  {
   "cell_type": "markdown",
   "id": "870979ec-d39c-4346-bbe5-a914f0655426",
   "metadata": {},
   "source": [
    "### 16.What are the advantages of OOP?\n",
    "ANS >>> \n",
    "\n",
    "1.Reusability through inheritance\n",
    "\n",
    "2.Modularity through classes\n",
    "\n",
    "3.Easier maintenance and debugging\n",
    "\n",
    "4.Real-world modeling\n",
    "\n"
   ]
  },
  {
   "cell_type": "code",
   "execution_count": null,
   "id": "f104cacb-9f57-4323-8b9b-a36d8b0cae5f",
   "metadata": {},
   "outputs": [],
   "source": []
  },
  {
   "cell_type": "markdown",
   "id": "293f5a7a-aa4f-4ab9-8993-762ac5898ca9",
   "metadata": {},
   "source": [
    "### 17.What is the difference between a class variable and an instance variable?\n",
    "ANS >>> Class variable: Shared by all instances.\n",
    "\n",
    "Instance variable: Unique to each object.\n",
    "\n",
    "| Feature      | Class Variable              | Instance Variable                   |\n",
    "| ------------ | --------------------------- | ----------------------------------- |\n",
    "| Scope        | Shared across all instances | Unique to each instance             |\n",
    "| Defined in   | Class body                  | Inside methods (usually `__init__`) |\n",
    "| Accessed via | Class name or instance      | Only via instance (`self`)          |\n",
    "| Purpose      | Common data                 | Object-specific data                |\n"
   ]
  },
  {
   "cell_type": "code",
   "execution_count": null,
   "id": "29838c0c-1464-4117-90f9-ccc4b3524c3a",
   "metadata": {},
   "outputs": [],
   "source": []
  },
  {
   "cell_type": "markdown",
   "id": "b193dbfc-592c-47db-b069-c3ba2284fd02",
   "metadata": {},
   "source": [
    "### 18.What is multiple inheritance in Python?\n",
    "ANS >>> Multiple inheritance is a feature in Python where a class can inherit attributes and methods from more than one parent class.\n",
    "\n",
    "This allows a child class to combine behaviors and properties from multiple sources."
   ]
  },
  {
   "cell_type": "code",
   "execution_count": 13,
   "id": "0b79f697-9fd1-4794-9c09-00973a985079",
   "metadata": {},
   "outputs": [
    {
     "name": "stdout",
     "output_type": "stream",
     "text": [
      "Method A\n",
      "Method B\n",
      "Method C\n"
     ]
    }
   ],
   "source": [
    "#Example \n",
    "class A:\n",
    "    def methodA(self):\n",
    "        print(\"Method A\")\n",
    "\n",
    "class B:\n",
    "    def methodB(self):\n",
    "        print(\"Method B\")\n",
    "\n",
    "class C(A, B):  # Multiple inheritance\n",
    "    def methodC(self):\n",
    "        print(\"Method C\")\n",
    "\n",
    "obj = C()\n",
    "obj.methodA()  # From class A\n",
    "obj.methodB()  # From class B\n",
    "obj.methodC()  # From class C\n"
   ]
  },
  {
   "cell_type": "code",
   "execution_count": null,
   "id": "7057098d-570b-4a89-ba89-a3afa38a8d71",
   "metadata": {},
   "outputs": [],
   "source": []
  },
  {
   "cell_type": "markdown",
   "id": "dedb0ed6-45bb-4247-8cb1-4f4a97ff7fdc",
   "metadata": {},
   "source": [
    "### 19.Explain the purpose of ‘’__str__’ and ‘__repr__’ ‘ methods in Python.\n",
    "ANS >>> In Python, the __str__ and __repr__ methods are special (dunder) methods used to define how an object should be represented as a string.\n",
    "\n",
    "| Feature      | `__str__`                                   | `__repr__`                                                  |\n",
    "| ------------ | ------------------------------------------- | ----------------------------------------------------------- |\n",
    "| Purpose      | End-user display (`print()`)                | Developer/debug display (`repr()`)                          |\n",
    "| Output Style | Readable and friendly                       | Unambiguous and precise                                     |\n",
    "| Fallback     | If `__str__` is missing, `__repr__` is used | If `__repr__` is missing, defaults to object memory address |\n"
   ]
  },
  {
   "cell_type": "code",
   "execution_count": null,
   "id": "078c5ba7-fa3f-4161-8cd4-572e37b5a072",
   "metadata": {},
   "outputs": [],
   "source": []
  },
  {
   "cell_type": "markdown",
   "id": "797752ef-cad6-44dc-af5f-8d3acd07ca1f",
   "metadata": {},
   "source": [
    "### 20. What is the significance of the ‘super()’ function in Python?\n",
    "ANS >>> The super() function is used to call a method from a parent (base) class in a child (derived) class. It helps in accessing or extending the behavior of the parent class without explicitly naming it.\n",
    "\n",
    "🔹 Why is super() important?\n",
    "1.Avoids Explicit Parent Class Name:\n",
    "Makes code more maintainable if the parent class name changes.\n",
    "\n",
    "2.Supports Multiple Inheritance:\n",
    "Properly follows the Method Resolution Order (MRO) to call the next method in the inheritance chain.\n",
    "\n",
    "3.Code Reuse and Extension:\n",
    "Allows child classes to add functionality while reusing the parent’s method logic.\n",
    "\n"
   ]
  },
  {
   "cell_type": "code",
   "execution_count": 16,
   "id": "252693ad-d7a5-4bc1-96bd-c9b54c619ade",
   "metadata": {},
   "outputs": [
    {
     "name": "stdout",
     "output_type": "stream",
     "text": [
      "Animal sound\n",
      "Woof!\n"
     ]
    }
   ],
   "source": [
    "#Example\n",
    "class Animal:\n",
    "    def speak(self):\n",
    "        print(\"Animal sound\")\n",
    "\n",
    "class Dog(Animal):\n",
    "    def speak(self):\n",
    "        super().speak()  # Call parent method\n",
    "        print(\"Woof!\")\n",
    "\n",
    "d = Dog()\n",
    "d.speak()\n"
   ]
  },
  {
   "cell_type": "code",
   "execution_count": null,
   "id": "8eada40c-04f7-4112-b5c0-0b2d7f1c2272",
   "metadata": {},
   "outputs": [],
   "source": []
  },
  {
   "cell_type": "markdown",
   "id": "a3ee6f94-fd60-401b-bb2b-6cfb9a4d1dfb",
   "metadata": {},
   "source": [
    "### 21.What is the significance of the __del__ method in Python?\n",
    "ANS >>> The __del__ method is a destructor in Python. It is called when an object is about to be destroyed, i.e., when the object's reference count drops to zero and the garbage collector is about to reclaim the memory.\n",
    "\n",
    "🔹 Purpose of __del__:\n",
    "To clean up resources (like closing files, network connections, or releasing locks) before the object is destroyed.\n",
    "\n",
    "Acts like a \"finalizer\" for an object."
   ]
  },
  {
   "cell_type": "code",
   "execution_count": 17,
   "id": "2747a812-3d50-4238-94a1-e914a223b1ef",
   "metadata": {},
   "outputs": [
    {
     "name": "stdout",
     "output_type": "stream",
     "text": [
      "Object created\n",
      "Object is being destroyed\n"
     ]
    }
   ],
   "source": [
    "#Example\n",
    "class MyClass:\n",
    "    def __init__(self):\n",
    "        print(\"Object created\")\n",
    "\n",
    "    def __del__(self):\n",
    "        print(\"Object is being destroyed\")\n",
    "\n",
    "obj = MyClass()\n",
    "del obj  # Explicitly deleting object triggers __del__\n"
   ]
  },
  {
   "cell_type": "code",
   "execution_count": null,
   "id": "efb69aa9-4d9f-441b-bf28-8231a6129b96",
   "metadata": {},
   "outputs": [],
   "source": []
  },
  {
   "cell_type": "markdown",
   "id": "9d3ffc44-5436-4608-870b-4894c931be0f",
   "metadata": {},
   "source": [
    "### 22. What is the difference between @staticmethod and @classmethod in Python?\n",
    "ANS >>> Both decorators are used to define methods inside a class that aren’t tied to a particular instance, but they behave differently in how they access class or instance data.\n",
    "\n",
    "🔹 @staticmethod\n",
    "Does not receive any implicit first argument (neither self nor cls).\n",
    "\n",
    "Behaves like a regular function inside a class namespace.\n",
    "\n",
    "Cannot access or modify class or instance state.\n",
    "\n",
    "Used when the method logically belongs to the class but doesn’t need class or instance data.\n",
    "\n",
    "\n",
    "🔸 @classmethod\n",
    "Receives the class itself as the first argument, conventionally named cls.\n",
    "\n",
    "Can access or modify class state that applies across all instances.\n",
    "\n",
    "Often used for alternative constructors or methods that affect the class as a whole.\n",
    "\n",
    "\n",
    "| Feature            | `@staticmethod`                    | `@classmethod`                         |\n",
    "| ------------------ | ---------------------------------- | -------------------------------------- |\n",
    "| First parameter    | No (`self` or `cls` not passed)    | Yes (`cls` is passed automatically)    |\n",
    "| Access to class    | No                                 | Yes                                    |\n",
    "| Access to instance | No                                 | No (no instance, only class)           |\n",
    "| Use case           | Utility functions related to class | Factory methods, class-wide operations |\n"
   ]
  },
  {
   "cell_type": "code",
   "execution_count": null,
   "id": "647b5556-db6a-4f8c-89c6-3ac95e7a7a7f",
   "metadata": {},
   "outputs": [],
   "source": []
  },
  {
   "cell_type": "markdown",
   "id": "79c93506-2b1c-4806-89ff-77dc13f32eda",
   "metadata": {},
   "source": [
    "### 23.How does polymorphism work in Python with inheritance?\n",
    "ANS >>> Polymorphism allows methods in different classes related by inheritance to have the same name but behave differently. When you call a method on an object, Python uses the method defined in the object's actual class, even if you refer to the object by a parent class type.\n",
    "\n",
    "🔹 Key Idea:\n",
    "A parent class defines a method.\n",
    "\n",
    "Child classes override this method with their own versions.\n",
    "\n",
    "When calling the method on any instance, Python uses the child's overridden method if it exists."
   ]
  },
  {
   "cell_type": "code",
   "execution_count": 18,
   "id": "bc55f3ef-17ae-446e-877e-3b95de3a55af",
   "metadata": {},
   "outputs": [
    {
     "name": "stdout",
     "output_type": "stream",
     "text": [
      "Woof!\n",
      "Meow!\n"
     ]
    }
   ],
   "source": [
    "#Example\n",
    "class Animal:\n",
    "    def speak(self):\n",
    "        print(\"Animal speaks\")\n",
    "\n",
    "class Dog(Animal):\n",
    "    def speak(self):\n",
    "        print(\"Woof!\")\n",
    "\n",
    "class Cat(Animal):\n",
    "    def speak(self):\n",
    "        print(\"Meow!\")\n",
    "\n",
    "def animal_sound(animal):\n",
    "    animal.speak()  # Polymorphic call\n",
    "\n",
    "dog = Dog()\n",
    "cat = Cat()\n",
    "\n",
    "animal_sound(dog)  # Output: Woof!\n",
    "animal_sound(cat)  # Output: Meow!\n"
   ]
  },
  {
   "cell_type": "code",
   "execution_count": null,
   "id": "556d6829-1a81-4774-a95b-1ebccdca5547",
   "metadata": {},
   "outputs": [],
   "source": []
  },
  {
   "cell_type": "markdown",
   "id": "57afd4c9-5d8e-4381-9bf8-beeb2e5ae3b3",
   "metadata": {},
   "source": [
    "### 24.What is method chaining in Python OOP?\n",
    "ANS >>> Method chaining is a technique where multiple method calls are linked together in a single statement, with each method returning the object itself (self). This allows calling multiple methods one after another on the same object in a concise and readable way.\n",
    "\n",
    "🔹 How It Works:\n",
    "Each method returns self (the current object).\n",
    "\n",
    "You can call the next method directly on the returned object."
   ]
  },
  {
   "cell_type": "code",
   "execution_count": 19,
   "id": "2aff1640-0455-4d37-a0bb-197186014e75",
   "metadata": {},
   "outputs": [
    {
     "name": "stdout",
     "output_type": "stream",
     "text": [
      "Speed: 20 km/h\n"
     ]
    },
    {
     "data": {
      "text/plain": [
       "<__main__.Car at 0x1c0da8af200>"
      ]
     },
     "execution_count": 19,
     "metadata": {},
     "output_type": "execute_result"
    }
   ],
   "source": [
    "#Example\n",
    "class Car:\n",
    "    def __init__(self):\n",
    "        self.speed = 0\n",
    "\n",
    "    def accelerate(self, amount):\n",
    "        self.speed += amount\n",
    "        return self       # Return self for chaining\n",
    "\n",
    "    def brake(self, amount):\n",
    "        self.speed = max(0, self.speed - amount)\n",
    "        return self       # Return self for chaining\n",
    "\n",
    "    def show_speed(self):\n",
    "        print(f\"Speed: {self.speed} km/h\")\n",
    "        return self       # Optional chaining here too\n",
    "\n",
    "car = Car()\n",
    "car.accelerate(30).brake(10).show_speed()\n"
   ]
  },
  {
   "cell_type": "code",
   "execution_count": null,
   "id": "0b04976b-1058-4a1b-924b-04e0a30d9a18",
   "metadata": {},
   "outputs": [],
   "source": []
  },
  {
   "cell_type": "markdown",
   "id": "4aac0eb0-26dc-40d6-81a0-4cf7672ea8a6",
   "metadata": {},
   "source": [
    "### 25.What is the purpose of the __call__ method in Python?\n",
    "ANS >>> The __call__ method allows an instance of a class to be called like a function. When you define __call__ in a class, you can use the object itself with parentheses () to invoke that method.\n",
    "\n",
    "🔹 Why Use __call__?\n",
    "To make objects callable (like functions).\n",
    "\n",
    "Useful for creating function-like objects with internal state or configuration.\n",
    "\n",
    "Enables more flexible and expressive APIs."
   ]
  },
  {
   "cell_type": "code",
   "execution_count": 20,
   "id": "d1ad529f-a788-444b-91cf-4848ff810bb4",
   "metadata": {},
   "outputs": [
    {
     "name": "stdout",
     "output_type": "stream",
     "text": [
      "10\n"
     ]
    }
   ],
   "source": [
    "#Example\n",
    "class Multiplier:\n",
    "    def __init__(self, factor):\n",
    "        self.factor = factor\n",
    "\n",
    "    def __call__(self, x):\n",
    "        return x * self.factor\n",
    "\n",
    "double = Multiplier(2)\n",
    "print(double(5))  # Output: 10\n"
   ]
  },
  {
   "cell_type": "code",
   "execution_count": null,
   "id": "da85b59a-9f66-49e2-94d6-32f18d20c2c6",
   "metadata": {},
   "outputs": [],
   "source": []
  },
  {
   "cell_type": "markdown",
   "id": "926bfb88-9dbb-42fa-837a-faa92c764a0a",
   "metadata": {},
   "source": [
    "# Practical Questions\n"
   ]
  },
  {
   "cell_type": "code",
   "execution_count": 22,
   "id": "166c5b87-23e4-4b06-ad78-b6ef53b59888",
   "metadata": {},
   "outputs": [
    {
     "name": "stdout",
     "output_type": "stream",
     "text": [
      "Animal makes a sound\n",
      "Bark!\n"
     ]
    }
   ],
   "source": [
    "#1.Create a parent class Animal with a method speak() that prints a generic message. Create a child class Dog \n",
    "#that overrides the speak() method to print \"Bark!\".\n",
    "\n",
    "class Animal:\n",
    "    def speak(self):\n",
    "        print(\"Animal makes a sound\")\n",
    "\n",
    "class Dog(Animal):\n",
    "    def speak(self):\n",
    "        print(\"Bark!\")\n",
    "\n",
    "animal=Animal()\n",
    "animal.speak()\n",
    "\n",
    "dog = Dog()\n",
    "dog.speak() \n"
   ]
  },
  {
   "cell_type": "code",
   "execution_count": null,
   "id": "233f1641-2f2e-4ff8-acb1-1fbb461422cd",
   "metadata": {},
   "outputs": [],
   "source": []
  },
  {
   "cell_type": "code",
   "execution_count": 23,
   "id": "962d1836-9aff-416d-92ca-63aa3d4906b8",
   "metadata": {},
   "outputs": [
    {
     "name": "stdout",
     "output_type": "stream",
     "text": [
      "78.53981633974483\n",
      "24\n"
     ]
    }
   ],
   "source": [
    "#2. Write a program to create an abstract class Shape with a method area(). Derive classes Circle and Rectangle \n",
    "#from it and implement the area() method in both.\n",
    "\n",
    "from abc import ABC, abstractmethod\n",
    "import math\n",
    "\n",
    "class Shape(ABC):\n",
    "    @abstractmethod\n",
    "    def area(self):\n",
    "        pass\n",
    "\n",
    "class Circle(Shape):\n",
    "    def __init__(self, radius):\n",
    "        self.radius = radius\n",
    "\n",
    "    def area(self):\n",
    "        return math.pi * self.radius ** 2\n",
    "\n",
    "class Rectangle(Shape):\n",
    "    def __init__(self, width, height):\n",
    "        self.width = width\n",
    "        self.height = height\n",
    "\n",
    "    def area(self):\n",
    "        return self.width * self.height\n",
    "\n",
    "c = Circle(5)\n",
    "r = Rectangle(4, 6)\n",
    "print(c.area())  \n",
    "print(r.area())  \n"
   ]
  },
  {
   "cell_type": "code",
   "execution_count": 25,
   "id": "6c040a3f-c27a-4c46-9d58-850457b24de7",
   "metadata": {},
   "outputs": [
    {
     "name": "stdout",
     "output_type": "stream",
     "text": [
      "Vehicle Tesla Model 3 75 kWh\n"
     ]
    }
   ],
   "source": [
    "#3. Implement a multi-level inheritance scenario where a class Vehicle has an attribute type. Derive a class Car \n",
    "#and further derive a class ElectricCar that adds a battery attribute.\n",
    "\n",
    "class Vehicle:\n",
    "    def __init__(self, type):\n",
    "        self.type = type\n",
    "\n",
    "class Car(Vehicle):\n",
    "    def __init__(self, type, model):\n",
    "        super().__init__(type)\n",
    "        self.model = model\n",
    "\n",
    "class ElectricCar(Car):\n",
    "    def __init__(self, type, model, battery):\n",
    "        super().__init__(type, model)\n",
    "        self.battery = battery\n",
    "\n",
    "ecar = ElectricCar(\"Vehicle\", \"Tesla Model 3\", \"75 kWh\")\n",
    "print(ecar.type, ecar.model, ecar.battery)\n"
   ]
  },
  {
   "cell_type": "code",
   "execution_count": null,
   "id": "4aeccd0c-e255-4e2f-824b-0d5647a15510",
   "metadata": {},
   "outputs": [],
   "source": []
  },
  {
   "cell_type": "code",
   "execution_count": 26,
   "id": "4a9eebe6-db24-4618-a087-03470156497c",
   "metadata": {},
   "outputs": [
    {
     "name": "stdout",
     "output_type": "stream",
     "text": [
      "Sparrow flies high\n",
      "Penguins can't fly\n"
     ]
    }
   ],
   "source": [
    "#4. Demonstrate polymorphism by creating a base class Bird with a method fly(). Create two derived classes \n",
    "#Sparrow and Penguin that override the fly() method.\n",
    "\n",
    "class Bird:\n",
    "    def fly(self):\n",
    "        print(\"Some birds can fly\")\n",
    "\n",
    "class Sparrow(Bird):\n",
    "    def fly(self):\n",
    "        print(\"Sparrow flies high\")\n",
    "\n",
    "class Penguin(Bird):\n",
    "    def fly(self):\n",
    "        print(\"Penguins can't fly\")\n",
    "\n",
    "def let_bird_fly(bird):\n",
    "    bird.fly()\n",
    "\n",
    "let_bird_fly(Sparrow()) \n",
    "let_bird_fly(Penguin())  \n"
   ]
  },
  {
   "cell_type": "code",
   "execution_count": null,
   "id": "e13fcfae-11c0-42fa-a503-addff16c9490",
   "metadata": {},
   "outputs": [],
   "source": []
  },
  {
   "cell_type": "code",
   "execution_count": 30,
   "id": "1aefe017-e33d-4196-81ab-76c42c74484f",
   "metadata": {},
   "outputs": [
    {
     "name": "stdout",
     "output_type": "stream",
     "text": [
      "Deposited: 50\n",
      "Withdrew: 30\n",
      "Current balance: 120\n"
     ]
    }
   ],
   "source": [
    "#5.Write a program to demonstrate encapsulation by creating a class BankAccount with private attributes \n",
    "#balance and methods to deposit, withdraw, and check balance.\n",
    "\n",
    "class BankAccount:\n",
    "    def __init__(self, initial_balance=0):\n",
    "        self.__balance = initial_balance  # private attribute\n",
    "\n",
    "    def deposit(self, amount):\n",
    "        if amount > 0:\n",
    "            self.__balance += amount\n",
    "            print(f\"Deposited: {amount}\")\n",
    "        else:\n",
    "            print(\"Deposit amount must be positive\")\n",
    "\n",
    "    def withdraw(self, amount):\n",
    "        if 0 < amount <= self.__balance:\n",
    "            self.__balance -= amount\n",
    "            print(f\"Withdrew: {amount}\")\n",
    "        else:\n",
    "            print(\"Insufficient balance or invalid amount\")\n",
    "\n",
    "    def check_balance(self):\n",
    "        print(f\"Current balance: {self.__balance}\")\n",
    "\n",
    "\n",
    "account = BankAccount(100)\n",
    "account.deposit(50)       \n",
    "account.withdraw(30)     \n",
    "account.check_balance()   \n",
    "\n",
    "\n"
   ]
  },
  {
   "cell_type": "code",
   "execution_count": null,
   "id": "1eb77c94-d35e-4fd7-8660-7d614cda152a",
   "metadata": {},
   "outputs": [],
   "source": []
  },
  {
   "cell_type": "code",
   "execution_count": 29,
   "id": "aa311499-09eb-4d6f-910e-fff06e687e48",
   "metadata": {},
   "outputs": [
    {
     "name": "stdout",
     "output_type": "stream",
     "text": [
      "Playing the guitar\n",
      "Playing the piano\n"
     ]
    }
   ],
   "source": [
    "#6. Demonstrate runtime polymorphism using a method play() in a base class Instrument. Derive classes Guitar \n",
    "#and Piano that implement their own version of play().\n",
    "\n",
    "class Instrument:\n",
    "    def play(self):\n",
    "        print(\"Playing some instrument\")\n",
    "\n",
    "class Guitar(Instrument):\n",
    "    def play(self):\n",
    "        print(\"Playing the guitar\")\n",
    "\n",
    "class Piano(Instrument):\n",
    "    def play(self):\n",
    "        print(\"Playing the piano\")\n",
    "\n",
    "def perform(instrument):\n",
    "    instrument.play()\n",
    "\n",
    "perform(Guitar()) \n",
    "perform(Piano())   \n"
   ]
  },
  {
   "cell_type": "code",
   "execution_count": null,
   "id": "f81e02f8-6ab6-4cc0-89b5-1cf70925e8d4",
   "metadata": {},
   "outputs": [],
   "source": []
  },
  {
   "cell_type": "code",
   "execution_count": 31,
   "id": "97a004e9-7b05-45e6-bba6-dc7f50b7bf8e",
   "metadata": {},
   "outputs": [
    {
     "name": "stdout",
     "output_type": "stream",
     "text": [
      "15\n",
      "5\n"
     ]
    }
   ],
   "source": [
    "#7.Create a class MathOperations with a class method add_numbers() to add two numbers and a static \n",
    "#method subtract_numbers() to subtract two numbers.\n",
    "\n",
    "class MathOperations:\n",
    "    @classmethod\n",
    "    def add_numbers(cls, a, b):\n",
    "        return a + b\n",
    "\n",
    "    @staticmethod\n",
    "    def subtract_numbers(a, b):\n",
    "        return a - b\n",
    "\n",
    "\n",
    "print(MathOperations.add_numbers(10, 5))     \n",
    "print(MathOperations.subtract_numbers(10, 5))  \n"
   ]
  },
  {
   "cell_type": "code",
   "execution_count": null,
   "id": "8c3acf19-5cbf-45aa-8760-80d66588e5fb",
   "metadata": {},
   "outputs": [],
   "source": []
  },
  {
   "cell_type": "code",
   "execution_count": 34,
   "id": "27932077-9914-47ce-ace1-c120a901ce78",
   "metadata": {},
   "outputs": [
    {
     "name": "stdout",
     "output_type": "stream",
     "text": [
      "Total persons created: 3\n"
     ]
    }
   ],
   "source": [
    "#8. Implement a class Person with a class method to count the total number of persons created.\n",
    "\n",
    "class Person:\n",
    "    count = 0  \n",
    "\n",
    "    def __init__(self, name):\n",
    "        self.name = name\n",
    "        Person.count += 1\n",
    "\n",
    "    @classmethod\n",
    "    def total_persons(cls):\n",
    "        return cls.count\n",
    "\n",
    "\n",
    "p1 = Person(\"prince\")\n",
    "p2 = Person(\"ajay\")\n",
    "p3 = Person(\"bijay\")\n",
    "\n",
    "print(\"Total persons created:\", Person.total_persons()) \n"
   ]
  },
  {
   "cell_type": "code",
   "execution_count": null,
   "id": "9c223ced-6604-4369-9e00-0b021fa770a8",
   "metadata": {},
   "outputs": [],
   "source": []
  },
  {
   "cell_type": "code",
   "execution_count": 33,
   "id": "fad538b4-2c12-4b0f-9de7-7138b16f3421",
   "metadata": {},
   "outputs": [
    {
     "name": "stdout",
     "output_type": "stream",
     "text": [
      "3/4\n"
     ]
    }
   ],
   "source": [
    "#9. Write a class Fraction with attributes numerator and denominator. Override the str method to display the \n",
    "#fraction as \"numerator/denominator\".\n",
    "\n",
    "class Fraction:\n",
    "    def __init__(self, numerator, denominator):\n",
    "        self.numerator = numerator\n",
    "        self.denominator = denominator\n",
    "\n",
    "    def __str__(self):\n",
    "        return f\"{self.numerator}/{self.denominator}\"\n",
    "\n",
    "\n",
    "f = Fraction(3, 4)\n",
    "print(f)  \n"
   ]
  },
  {
   "cell_type": "code",
   "execution_count": null,
   "id": "05149178-b367-44c9-81ad-ce84809ecef9",
   "metadata": {},
   "outputs": [],
   "source": []
  },
  {
   "cell_type": "code",
   "execution_count": 35,
   "id": "42fa1adc-03e9-4f70-a53b-65692b78abd8",
   "metadata": {},
   "outputs": [
    {
     "name": "stdout",
     "output_type": "stream",
     "text": [
      "(6, 4)\n"
     ]
    }
   ],
   "source": [
    "#10. Demonstrate operator overloading by creating a class Vector and overriding the add method to add two \n",
    "#vectors.\n",
    "\n",
    "class Vector:\n",
    "    def __init__(self, x, y):\n",
    "        self.x = x\n",
    "        self.y = y\n",
    "\n",
    "    def __add__(self, other):\n",
    "        return Vector(self.x + other.x, self.y + other.y)\n",
    "\n",
    "    def __str__(self):\n",
    "        return f\"({self.x}, {self.y})\"\n",
    "\n",
    "\n",
    "v1 = Vector(2, 3)\n",
    "v2 = Vector(4, 1)\n",
    "v3 = v1 + v2\n",
    "\n",
    "print(v3)  \n"
   ]
  },
  {
   "cell_type": "code",
   "execution_count": null,
   "id": "35e8f532-4a7b-4e8a-92b4-03694f61989d",
   "metadata": {},
   "outputs": [],
   "source": []
  },
  {
   "cell_type": "code",
   "execution_count": 36,
   "id": "bde5593e-94b3-42ec-aa7b-3c6a88be3096",
   "metadata": {},
   "outputs": [
    {
     "name": "stdout",
     "output_type": "stream",
     "text": [
      "Hello, my name is prince and I am 21 years old.\n"
     ]
    }
   ],
   "source": [
    "#11. Create a class Person with attributes name and age. Add a method greet() that prints \"Hello, my name is \n",
    "#{name} and I am {age} years old.\n",
    "\n",
    "class Person:\n",
    "    def __init__(self, name, age):\n",
    "        self.name = name\n",
    "        self.age = age\n",
    "\n",
    "    def greet(self):\n",
    "        print(f\"Hello, my name is {self.name} and I am {self.age} years old.\")\n",
    "\n",
    "\n",
    "p = Person(\"prince\", 21)\n",
    "p.greet()  \n"
   ]
  },
  {
   "cell_type": "code",
   "execution_count": null,
   "id": "7875755f-f1c1-4ebe-a8cd-db0257dc78ec",
   "metadata": {},
   "outputs": [],
   "source": []
  },
  {
   "cell_type": "code",
   "execution_count": 38,
   "id": "40a054ae-d394-4405-b50c-63978585ad2c",
   "metadata": {},
   "outputs": [
    {
     "name": "stdout",
     "output_type": "stream",
     "text": [
      "prince's average grade: 84.33333333333333\n"
     ]
    }
   ],
   "source": [
    "#12. Implement a class Student with attributes name and grades. Create a method average_grade() to compute \n",
    "#the average of the grades.\n",
    "\n",
    "class Student:\n",
    "    def __init__(self, name, grades):\n",
    "        self.name = name\n",
    "        self.grades = grades  \n",
    "\n",
    "    def average_grade(self):\n",
    "        if self.grades:\n",
    "            return sum(self.grades) / len(self.grades)\n",
    "        else:\n",
    "            return 0\n",
    "\n",
    "s = Student(\"prince\", [85, 90, 78])\n",
    "print(f\"{s.name}'s average grade: {s.average_grade()}\")  "
   ]
  },
  {
   "cell_type": "code",
   "execution_count": null,
   "id": "751edeb0-5dd4-4906-ab93-7cedac10db3a",
   "metadata": {},
   "outputs": [],
   "source": []
  },
  {
   "cell_type": "code",
   "execution_count": 40,
   "id": "b47e079d-5197-444b-8df0-bb124a989c9b",
   "metadata": {},
   "outputs": [
    {
     "name": "stdout",
     "output_type": "stream",
     "text": [
      "Area of rectangle: 20\n"
     ]
    }
   ],
   "source": [
    "#13. Create a class Rectangle with methods set_dimensions() to set the dimensions and area() to calculate the \n",
    "#area.\n",
    "\n",
    "class Rectangle:\n",
    "    def __init__(self):\n",
    "        self.width = 0\n",
    "        self.height = 0\n",
    "\n",
    "    def set_dimensions(self, width, height):\n",
    "        self.width = width\n",
    "        self.height = height\n",
    "\n",
    "    def area(self):\n",
    "        return self.width * self.height\n",
    "\n",
    "\n",
    "rect = Rectangle()\n",
    "rect.set_dimensions(5, 4)\n",
    "print(\"Area of rectangle:\", rect.area())  \n"
   ]
  },
  {
   "cell_type": "code",
   "execution_count": null,
   "id": "4df2a291-f12c-4c7e-b76e-280810374c87",
   "metadata": {},
   "outputs": [],
   "source": []
  },
  {
   "cell_type": "code",
   "execution_count": 41,
   "id": "b55235fc-5d23-4c3e-821d-e73604b9ec6d",
   "metadata": {},
   "outputs": [
    {
     "name": "stdout",
     "output_type": "stream",
     "text": [
      "prince's salary: $800\n",
      "ajay's salary: $1700\n"
     ]
    }
   ],
   "source": [
    "#14. Create a class Employee with a method calculate_salary() that computes the salary based on hours worked \n",
    "#and hourly rate. Create a derived class Manager that adds a bonus to the salary.\n",
    "\n",
    "class Employee:\n",
    "    def __init__(self, name, hours_worked, hourly_rate):\n",
    "        self.name = name\n",
    "        self.hours_worked = hours_worked\n",
    "        self.hourly_rate = hourly_rate\n",
    "\n",
    "    def calculate_salary(self):\n",
    "        return self.hours_worked * self.hourly_rate\n",
    "\n",
    "class Manager(Employee):\n",
    "    def __init__(self, name, hours_worked, hourly_rate, bonus):\n",
    "        super().__init__(name, hours_worked, hourly_rate)\n",
    "        self.bonus = bonus\n",
    "\n",
    "    def calculate_salary(self):\n",
    "        base_salary = super().calculate_salary()\n",
    "        return base_salary + self.bonus\n",
    "\n",
    "\n",
    "emp = Employee(\"prince\", 40, 20)\n",
    "mgr = Manager(\"ajay\", 40, 30, 500)\n",
    "\n",
    "print(f\"{emp.name}'s salary: ${emp.calculate_salary()}\") \n",
    "print(f\"{mgr.name}'s salary: ${mgr.calculate_salary()}\")  \n"
   ]
  },
  {
   "cell_type": "code",
   "execution_count": null,
   "id": "b4404094-6597-401c-a623-45ede6fd0963",
   "metadata": {},
   "outputs": [],
   "source": []
  },
  {
   "cell_type": "code",
   "execution_count": 43,
   "id": "674c5452-e5a3-410e-95b9-9a9938a97d02",
   "metadata": {},
   "outputs": [
    {
     "name": "stdout",
     "output_type": "stream",
     "text": [
      "Total price of Laptop: $3000\n"
     ]
    }
   ],
   "source": [
    "#15. Create a class Product with attributes name, price, and quantity. Implement a method total_price() that \n",
    "#calculates the total price of the product.\n",
    "\n",
    "class Product:\n",
    "    def __init__(self, name, price, quantity):\n",
    "        self.name = name\n",
    "        self.price = price\n",
    "        self.quantity = quantity\n",
    "\n",
    "    def total_price(self):\n",
    "        return self.price * self.quantity\n",
    "\n",
    "\n",
    "p = Product(\"Laptop\", 1000, 3)\n",
    "print(f\"Total price of {p.name}: ${p.total_price()}\")  \n"
   ]
  },
  {
   "cell_type": "code",
   "execution_count": null,
   "id": "491f9b6e-8245-40ff-a58f-6f1597e9c066",
   "metadata": {},
   "outputs": [],
   "source": []
  },
  {
   "cell_type": "code",
   "execution_count": 44,
   "id": "a9bb6e76-350e-4a8a-a283-784d006667a2",
   "metadata": {},
   "outputs": [
    {
     "name": "stdout",
     "output_type": "stream",
     "text": [
      "Moo\n",
      "Baa\n"
     ]
    }
   ],
   "source": [
    "#16. Create a class Animal with an abstract method sound(). Create two derived classes Cow and Sheep that \n",
    "#implement the sound() method.\n",
    "\n",
    "from abc import ABC, abstractmethod\n",
    "\n",
    "class Animal(ABC):\n",
    "    @abstractmethod\n",
    "    def sound(self):\n",
    "        pass\n",
    "\n",
    "class Cow(Animal):\n",
    "    def sound(self):\n",
    "        print(\"Moo\")\n",
    "\n",
    "class Sheep(Animal):\n",
    "    def sound(self):\n",
    "        print(\"Baa\")\n",
    "\n",
    "\n",
    "cow = Cow()\n",
    "sheep = Sheep()\n",
    "\n",
    "cow.sound()    \n",
    "sheep.sound() \n"
   ]
  },
  {
   "cell_type": "code",
   "execution_count": null,
   "id": "ff506a2e-7ba4-4692-aebd-1c98ca9a787c",
   "metadata": {},
   "outputs": [],
   "source": []
  },
  {
   "cell_type": "code",
   "execution_count": 46,
   "id": "c8a5cfb7-c289-4138-9a91-048bf1e67b2b",
   "metadata": {},
   "outputs": [
    {
     "name": "stdout",
     "output_type": "stream",
     "text": [
      "'Godaan' by Munshi Premchand, published in 1936\n"
     ]
    }
   ],
   "source": [
    "#17. Create a class Book with attributes title, author, and year_published. Add a method get_book_info() that \n",
    "#returns a formatted string with the book's details.\n",
    "\n",
    "class Book:\n",
    "    def __init__(self, title, author, year_published):\n",
    "        self.title = title\n",
    "        self.author = author\n",
    "        self.year_published = year_published\n",
    "\n",
    "    def get_book_info(self):\n",
    "        return f\"'{self.title}' by {self.author}, published in {self.year_published}\"\n",
    "\n",
    "\n",
    "book = Book(\"Godaan\", \"Munshi Premchand\", 1936)\n",
    "print(book.get_book_info())  "
   ]
  },
  {
   "cell_type": "code",
   "execution_count": null,
   "id": "bc60e2dd-ec60-450e-9a39-b399dcfff16f",
   "metadata": {},
   "outputs": [],
   "source": []
  },
  {
   "cell_type": "code",
   "execution_count": 47,
   "id": "bbefda41-ccd6-404c-ad0b-ece4ac1c13e5",
   "metadata": {},
   "outputs": [
    {
     "name": "stdout",
     "output_type": "stream",
     "text": [
      "House: 123 Main St, Price: 500000\n",
      "Mansion: 456 Luxury Ave, Price: 2000000, Rooms: 10\n"
     ]
    }
   ],
   "source": [
    "#18. Create a class House with attributes address and price. Create a derived class Mansion that adds an \n",
    "#attribute number_of_rooms.\n",
    "\n",
    "class House:\n",
    "    def __init__(self, address, price):\n",
    "        self.address = address\n",
    "        self.price = price\n",
    "\n",
    "class Mansion(House):\n",
    "    def __init__(self, address, price, number_of_rooms):\n",
    "        super().__init__(address, price)\n",
    "        self.number_of_rooms = number_of_rooms\n",
    "\n",
    "\n",
    "house = House(\"123 Main St\", 500000)\n",
    "mansion = Mansion(\"456 Luxury Ave\", 2000000, 10)\n",
    "\n",
    "print(f\"House: {house.address}, Price: {house.price}\")\n",
    "print(f\"Mansion: {mansion.address}, Price: {mansion.price}, Rooms: {mansion.number_of_rooms}\")\n"
   ]
  },
  {
   "cell_type": "code",
   "execution_count": null,
   "id": "8e8ec292-fd4f-4589-b798-163593974a87",
   "metadata": {},
   "outputs": [],
   "source": []
  },
  {
   "cell_type": "markdown",
   "id": "54688b10-b2f8-4249-b3aa-ce781a34d625",
   "metadata": {},
   "source": [
    "# Thank you"
   ]
  }
 ],
 "metadata": {
  "kernelspec": {
   "display_name": "Python 3 (ipykernel)",
   "language": "python",
   "name": "python3"
  },
  "language_info": {
   "codemirror_mode": {
    "name": "ipython",
    "version": 3
   },
   "file_extension": ".py",
   "mimetype": "text/x-python",
   "name": "python",
   "nbconvert_exporter": "python",
   "pygments_lexer": "ipython3",
   "version": "3.12.7"
  }
 },
 "nbformat": 4,
 "nbformat_minor": 5
}
