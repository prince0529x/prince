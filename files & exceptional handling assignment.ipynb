{
 "cells": [
  {
   "cell_type": "markdown",
   "id": "3554feef-9418-4b12-ac43-37bd3235ca49",
   "metadata": {},
   "source": [
    "# Files, exceptional handling, logging and  memory management Questions"
   ]
  },
  {
   "cell_type": "markdown",
   "id": "c02f1ed7-3cf9-4774-ae41-e7dc6a1699f9",
   "metadata": {},
   "source": [
    "## Q1. What is the difference between interpreted and compiled languages?\n",
    "ANS>> An interpreted language is executed line-by-line by an interpreter at runtime, while a compiled language is\n",
    "first translated into machine code by a compiler before execution. Interpreted languages are usually more\n",
    "flexible and easier to debug, but compiled languages tend to offer better performance."
   ]
  },
  {
   "cell_type": "code",
   "execution_count": null,
   "id": "f940325c-f03f-47e0-b621-e27bcf4c4512",
   "metadata": {},
   "outputs": [],
   "source": []
  },
  {
   "cell_type": "markdown",
   "id": "25d936ea-c80b-47b3-89d4-c8308070ab6c",
   "metadata": {},
   "source": [
    "## Q2. What is exception handling in Python?\n",
    "ANS>> Exception handling in Python is a mechanism to handle runtime errors using try, except, else, and finally\n",
    "blocks. It helps in catching errors without terminating the program, allowing the program to recover from\n",
    "unexpected situations"
   ]
  },
  {
   "cell_type": "code",
   "execution_count": null,
   "id": "38315453-7609-4794-aab4-9f53ac6a00b3",
   "metadata": {},
   "outputs": [],
   "source": []
  },
  {
   "cell_type": "markdown",
   "id": "9b478adb-fd9f-44d0-8ff5-18f0847ad3e4",
   "metadata": {},
   "source": [
    "## Q3. What is the purpose of the finally block in exception handling?\n",
    "ANS>> he finally block in Python is used to ensure that certain code is always executed, regardless of whether an\n",
    "exception was raised or not. It's typically used for cleanup actions, such as closing files or releasing\n",
    "resources."
   ]
  },
  {
   "cell_type": "code",
   "execution_count": null,
   "id": "5bc0bcb0-f393-44a4-a7ea-b410a9d3182f",
   "metadata": {},
   "outputs": [],
   "source": []
  },
  {
   "cell_type": "markdown",
   "id": "7bdc71e0-b8d9-4ff7-9e10-b598c355de8a",
   "metadata": {},
   "source": [
    "## Q4. What is logging in Python?\n",
    "ANS>> Logging in Python refers to tracking events during program execution, which helps in debugging, monitoring,\n",
    "and auditing. The logging module allows for recording messages at different severity levels (e.g., DEBUG,\n",
    "INFO, WARNING, ERROR, CRITICAL)."
   ]
  },
  {
   "cell_type": "code",
   "execution_count": null,
   "id": "b04fb0a3-2405-44e6-82cd-14b5e50ea04c",
   "metadata": {},
   "outputs": [],
   "source": []
  },
  {
   "cell_type": "markdown",
   "id": "f4482bbf-8ece-4c98-b870-929c42e52ce0",
   "metadata": {},
   "source": [
    "## Q5. What is the significance of the __del__ method in Python?\n",
    "ANS>> The __del__ method is called when an object is about to be destroyed. It can be used for cleanup tasks,\n",
    "such as releasing external resources like network connections or file handles. However, it should be used with\n",
    "caution as its behavior can be unpredictable in certain cases."
   ]
  },
  {
   "cell_type": "code",
   "execution_count": null,
   "id": "abd9f5e9-a3bf-416a-92f6-17ca2c46ed48",
   "metadata": {},
   "outputs": [],
   "source": []
  },
  {
   "cell_type": "markdown",
   "id": "eb0fe0e6-6bd6-4a29-8391-35c6ecf411d7",
   "metadata": {},
   "source": [
    "## Q6. What is the difference between import and from ... import in Python?\n",
    "ANS>> The import statement imports an entire module, whereas from ... import allows you to import specific\n",
    "functions, classes, or variables from a module. This can make your code more concise and readable."
   ]
  },
  {
   "cell_type": "code",
   "execution_count": null,
   "id": "afca714c-9712-482b-8046-b964419deb46",
   "metadata": {},
   "outputs": [],
   "source": []
  },
  {
   "cell_type": "markdown",
   "id": "831265d0-2b4e-40ef-b529-4f26446be5d3",
   "metadata": {},
   "source": [
    "## Q7. How can you handle multiple exceptions in Python?\n",
    "ANS>> Multiple exceptions can be handled by using multiple except blocks or by catching multiple exceptions in a\n",
    "single block using a tuple. This allows for different actions to be taken depending on the type of exception."
   ]
  },
  {
   "cell_type": "code",
   "execution_count": null,
   "id": "e512209e-e522-4ff2-a1f7-970467777f74",
   "metadata": {},
   "outputs": [],
   "source": []
  },
  {
   "cell_type": "markdown",
   "id": "36cf2602-bca5-4e3a-ad91-74eec4bf7f98",
   "metadata": {},
   "source": [
    "## Q8. What is the purpose of the with statement when handling files in Python?\n",
    "ANS>> The with statement simplifies file handling by automatically closing the file after the block of code is\n",
    "executed. It ensures proper resource management and prevents file handles from being left open."
   ]
  },
  {
   "cell_type": "code",
   "execution_count": null,
   "id": "3f353a46-19e2-45d3-9242-72e461f56771",
   "metadata": {},
   "outputs": [],
   "source": []
  },
  {
   "cell_type": "markdown",
   "id": "54791eac-1c1f-41c8-9181-5fa0f500c62b",
   "metadata": {},
   "source": [
    "## Q9. What is the difference between multithreading and multiprocessing?\n",
    "ANS>> Multithreading allows multiple threads to run within the same process, sharing memory and resources,\n",
    "making it ideal for I/O-bound tasks. Multiprocessing, on the other hand, uses multiple processes, each with\n",
    "its own memory space, and is better suited for CPU-bound tasks."
   ]
  },
  {
   "cell_type": "code",
   "execution_count": null,
   "id": "684b3c06-ca38-4be2-8b52-69dd97237c07",
   "metadata": {},
   "outputs": [],
   "source": []
  },
  {
   "cell_type": "markdown",
   "id": "aad50294-1ee7-47d1-9ab9-48b3dc041711",
   "metadata": {},
   "source": [
    "## Q10. What are the advantages of using logging in a program?\n",
    "ANS>> Logging helps track the flow of execution, capture errors, monitor system behavior, and diagnose issues. It\n",
    "provides a persistent record of program execution, which is essential for debugging and auditing."
   ]
  },
  {
   "cell_type": "code",
   "execution_count": null,
   "id": "402c35a5-23ca-4fc6-a75f-63d06988854b",
   "metadata": {},
   "outputs": [],
   "source": []
  },
  {
   "cell_type": "markdown",
   "id": "4b917b91-6e96-45e0-825a-c2b082d2243e",
   "metadata": {},
   "source": [
    "## Q11. What is memory management in Python?\n",
    "ANS>> Memory management in Python involves automatically handling the allocation and deallocation of memory\n",
    "through reference counting and garbage collection. Python's memory manager handles the dynamic\n",
    "allocation of memory for objects, while garbage collection removes objects that are no longer in use.\n",
    "\n",
    "\n"
   ]
  },
  {
   "cell_type": "code",
   "execution_count": null,
   "id": "abcee448-8ad8-4b00-893e-3e5b26a14384",
   "metadata": {},
   "outputs": [],
   "source": []
  },
  {
   "cell_type": "markdown",
   "id": "ef8e50ad-f37d-4384-9b8c-5a31f9785eb7",
   "metadata": {},
   "source": [
    "## Q12. What are the basic steps involved in exception handling in Python?\n",
    "ANS>>\n",
    ". The basic steps include.\n",
    "\n",
    ". Wrapping the code that might raise an exception in a try block.\n",
    "\n",
    ". Catching exceptions in an except block.\n",
    "\n",
    ". Optionally using else for code that runs if no exception occurs.\n",
    "\n",
    ". Using finally to execute cleanup code, regardless of success or failure."
   ]
  },
  {
   "cell_type": "code",
   "execution_count": null,
   "id": "fbd614e9-2ef9-47b4-8429-05073427e190",
   "metadata": {},
   "outputs": [],
   "source": []
  },
  {
   "cell_type": "markdown",
   "id": "200f47a0-eb2e-477d-b567-2e0bd11bb5fe",
   "metadata": {},
   "source": [
    "## Q13. Why is memory management important in Python?\n",
    "ANS>> Effective memory management is important for performance and avoiding memory leaks. It ensures that\n",
    "memory is used efficiently, preventing unnecessary memory usage, and helps the program run faster by\n",
    "reclaiming unused memory."
   ]
  },
  {
   "cell_type": "code",
   "execution_count": null,
   "id": "dfabac10-d822-4ea0-b929-5836b6cb9640",
   "metadata": {},
   "outputs": [],
   "source": []
  },
  {
   "cell_type": "markdown",
   "id": "0b99513c-52b7-4a96-bffe-e6d73f10ee99",
   "metadata": {},
   "source": [
    "## Q14. What is the role of try and except in exception handling?\n",
    "ANS>> The try block contains code that might raise an exception, while the except block defines how to handle\n",
    "those exceptions. If an exception occurs in the try block, Python jumps to the corresponding except block to\n",
    "handle the error."
   ]
  },
  {
   "cell_type": "code",
   "execution_count": null,
   "id": "bf637a51-a16c-4804-b776-b979270a75d2",
   "metadata": {},
   "outputs": [],
   "source": []
  },
  {
   "cell_type": "markdown",
   "id": "6b5b0ada-3e46-4093-a4ff-c685d1cb062e",
   "metadata": {},
   "source": [
    "## Q15. How does Python's garbage collection system work?\n",
    "ANS>> Python's garbage collection system automatically frees memory by removing objects that are no longer\n",
    "referenced. This is achieved through reference counting and, when necessary, a cycle detector that finds\n",
    "and removes cyclic references."
   ]
  },
  {
   "cell_type": "code",
   "execution_count": null,
   "id": "6a5e5433-eda1-4e1d-9409-c882112d9803",
   "metadata": {},
   "outputs": [],
   "source": []
  },
  {
   "cell_type": "markdown",
   "id": "b1f03879-08d2-43a9-9d81-f37e82059824",
   "metadata": {},
   "source": [
    "## Q16. What is the purpose of the else block in exception handling?\n",
    "ANS>> The else block in exception handling is executed if no exception occurs in the try block. It allows for code that\n",
    "should only run when there is no error, ensuring that error-handling logic is kept separate."
   ]
  },
  {
   "cell_type": "code",
   "execution_count": null,
   "id": "2c530ca3-3235-4866-a34c-d3eea49a36fd",
   "metadata": {},
   "outputs": [],
   "source": []
  },
  {
   "cell_type": "markdown",
   "id": "ca443b18-4f93-479f-9d2f-8c547c09d235",
   "metadata": {},
   "source": [
    "## Q17. What are the common logging levels in Python?\n",
    "ANS>> The common logging levels in Python are:\n",
    "\n",
    ". DEBUG\n",
    "\n",
    ". INFO \n",
    "\n",
    ". WARNING\n",
    "\n",
    ". ERROR\n",
    "\n",
    ". CRITICAL\n",
    "\n",
    "\n",
    "These levels determine the severity of the events being logged and help in filtering the log output.\n",
    "\n",
    "\n"
   ]
  },
  {
   "cell_type": "code",
   "execution_count": null,
   "id": "b3cb3c5f-9d2d-4651-8bd6-b451f5d51ffb",
   "metadata": {},
   "outputs": [],
   "source": []
  },
  {
   "cell_type": "markdown",
   "id": "8f7ed99e-7426-466d-866c-f3ee087e5317",
   "metadata": {},
   "source": [
    "## Q18. What is the difference between os.fork() and multiprocessing in Python?\n",
    "ANS>> ‘os.fork()’ is a system call used to create a child process in Unix-like systems. In contrast, the multiprocessing\n",
    "module provides a higher-level interface for parallelism and works across platforms, including Windows, to\n",
    "create and manage multiple processes."
   ]
  },
  {
   "cell_type": "code",
   "execution_count": null,
   "id": "4fe6ddd5-1e10-450f-8487-f9ba83e59e56",
   "metadata": {},
   "outputs": [],
   "source": []
  },
  {
   "cell_type": "markdown",
   "id": "d585fdbd-890a-430d-a7ab-1f5b9d9674a3",
   "metadata": {},
   "source": [
    "## Q19. What is the importance of closing a file in Python?\n",
    "ANS>> Closing a file is essential for freeing up system resources. When a file is closed, the operating system can\n",
    "reclaim its resources, and data is written back to disk if the file was opened in write mode."
   ]
  },
  {
   "cell_type": "code",
   "execution_count": null,
   "id": "bbc509b5-ec9c-43a1-aba7-21a822832d5c",
   "metadata": {},
   "outputs": [],
   "source": []
  },
  {
   "cell_type": "markdown",
   "id": "bac8db56-05c4-417f-80b8-e076ad4033ef",
   "metadata": {},
   "source": [
    "## Q20. What is the difference between file.read() and file.readline() in Python?\n",
    "ANS>> file.read() reads the entire content of the file as a single string, whereas file.readline() reads the file one line\n",
    "at a time. read() is typically used for small files, while readline() is more memory-efficient for large files.\n",
    "\n",
    "\n"
   ]
  },
  {
   "cell_type": "code",
   "execution_count": null,
   "id": "024b6c75-31f5-4133-ae7d-c86e99a11c85",
   "metadata": {},
   "outputs": [],
   "source": []
  },
  {
   "cell_type": "markdown",
   "id": "b4d73c30-b92c-4993-b5f5-225009305c52",
   "metadata": {},
   "source": [
    "## Q21. What is the logging module in Python used for?\n",
    "ANS>> The logging module in Python provides a flexible framework for emitting log messages from Python\n",
    "programs. It allows developers to record messages of varying severity and manage how messages are\n",
    "displayed or saved."
   ]
  },
  {
   "cell_type": "code",
   "execution_count": null,
   "id": "f73a507f-9fbb-468d-a2c3-9814936ac1bc",
   "metadata": {},
   "outputs": [],
   "source": []
  },
  {
   "cell_type": "markdown",
   "id": "85cb0c39-f67d-4991-969f-35ff02b8f487",
   "metadata": {},
   "source": [
    "## Q22. What is the os module in Python used for in file handling?\n",
    "ANS>> The os module in Python provides functions to interact with the operating system, such as handling file\n",
    "paths, creating or deleting files, checking file existence, and navigating the file system.\n",
    "\n",
    "\n"
   ]
  },
  {
   "cell_type": "code",
   "execution_count": null,
   "id": "be7f81df-c65d-4fec-8665-3111b784a9d7",
   "metadata": {},
   "outputs": [],
   "source": []
  },
  {
   "cell_type": "markdown",
   "id": "3e1239dd-3e67-4993-a259-a4f6b9ab61dd",
   "metadata": {},
   "source": [
    "## Q23. What are the challenges associated with memory management in Python?\n",
    "ANS>> The main challenges with memory management in Python include dealing with memory leaks caused by\n",
    "circular references, managing large datasets, and ensuring that objects are properly garbage collected\n",
    "when no longer in use."
   ]
  },
  {
   "cell_type": "code",
   "execution_count": null,
   "id": "4b667d59-4c47-4b0f-b61f-e7a9f7311233",
   "metadata": {},
   "outputs": [],
   "source": []
  },
  {
   "cell_type": "markdown",
   "id": "91914f67-ad01-4daa-8432-d5da17b001a1",
   "metadata": {},
   "source": [
    "## Q24. How do you raise an exception manually in Python?\n",
    "ANS>>\n",
    "\n",
    ".You can raise an exception manually using the raise keyword, followed by an exception object>\n",
    "\n",
    ". raise ValueError(\"An error occurred\")"
   ]
  },
  {
   "cell_type": "code",
   "execution_count": null,
   "id": "6bfbf554-3b7f-45e0-a88b-c0d39a271304",
   "metadata": {},
   "outputs": [],
   "source": []
  },
  {
   "cell_type": "markdown",
   "id": "e76bc468-7cbc-4ccf-942b-6f3fe4f9eebd",
   "metadata": {},
   "source": [
    " ## Q25. Why is it important to use multithreading in certain applications?\n",
    "ANS >>Multithreading is important for improving the efficiency of I/O-bound applications by allowing multiple tasks\n",
    "to be executed concurrently. It helps reduce waiting times, making programs faster when performing tasks\n",
    "like network requests or file I/O."
   ]
  },
  {
   "cell_type": "code",
   "execution_count": null,
   "id": "ea7ad2a2-f551-4376-b682-6a1a14bc1361",
   "metadata": {},
   "outputs": [],
   "source": []
  },
  {
   "cell_type": "markdown",
   "id": "976a7eb0-b8c0-425d-83e3-cf85d2166110",
   "metadata": {},
   "source": [
    "# Practical Questions"
   ]
  },
  {
   "cell_type": "code",
   "execution_count": 2,
   "id": "9fdded63-eaf5-40a1-b96f-77b021a117a7",
   "metadata": {},
   "outputs": [],
   "source": [
    "#Q1. How can you open a file for writing in Python and write a string to it?\n",
    "\n",
    "file = open('example.txt', 'w')\n",
    "file.write('Hello, this is a test!')\n",
    "file.close()"
   ]
  },
  {
   "cell_type": "code",
   "execution_count": null,
   "id": "dde4c517-1611-47e7-acd0-0da42df20aa2",
   "metadata": {},
   "outputs": [],
   "source": []
  },
  {
   "cell_type": "code",
   "execution_count": 3,
   "id": "fc4887ec-92f2-4fd5-82ab-5054caeb3522",
   "metadata": {},
   "outputs": [
    {
     "name": "stdout",
     "output_type": "stream",
     "text": [
      "Hello, this is a test!\n"
     ]
    }
   ],
   "source": [
    "#Q2. Write a Python program to read the contents of a file and print each line.\n",
    "\n",
    "with open('example.txt', 'r') as file:\n",
    "    for line in file:\n",
    "        print(line.strip())"
   ]
  },
  {
   "cell_type": "code",
   "execution_count": null,
   "id": "7117cccd-8a10-4dcb-b160-03726908d37f",
   "metadata": {},
   "outputs": [],
   "source": []
  },
  {
   "cell_type": "code",
   "execution_count": 4,
   "id": "7c5ef1c6-bfa9-49a5-b860-4a39cc378ad2",
   "metadata": {},
   "outputs": [
    {
     "name": "stdout",
     "output_type": "stream",
     "text": [
      "The file was not found.\n"
     ]
    }
   ],
   "source": [
    "#Q3. How would you handle a case where the file doesn't exist while trying to open it for reading?\n",
    "\n",
    "try:\n",
    "    with open('nonexistent.txt', 'r') as file:\n",
    "        content = file.read()\n",
    "except FileNotFoundError:\n",
    "    print(\"The file was not found.\")"
   ]
  },
  {
   "cell_type": "code",
   "execution_count": null,
   "id": "2cbae6b8-bfab-475a-8135-63300e3b6391",
   "metadata": {},
   "outputs": [],
   "source": []
  },
  {
   "cell_type": "code",
   "execution_count": 5,
   "id": "4944e8f3-af49-4c17-8300-0f0a18eed0bb",
   "metadata": {},
   "outputs": [
    {
     "ename": "FileNotFoundError",
     "evalue": "[Errno 2] No such file or directory: 'input.txt'",
     "output_type": "error",
     "traceback": [
      "\u001b[1;31m---------------------------------------------------------------------------\u001b[0m",
      "\u001b[1;31mFileNotFoundError\u001b[0m                         Traceback (most recent call last)",
      "Cell \u001b[1;32mIn[5], line 4\u001b[0m\n\u001b[0;32m      1\u001b[0m \u001b[38;5;66;03m#Q4. Write a Python script that reads from one file and writes its content to another file.\u001b[39;00m\n\u001b[1;32m----> 4\u001b[0m \u001b[38;5;28;01mwith\u001b[39;00m \u001b[38;5;28mopen\u001b[39m(\u001b[38;5;124m'\u001b[39m\u001b[38;5;124minput.txt\u001b[39m\u001b[38;5;124m'\u001b[39m, \u001b[38;5;124m'\u001b[39m\u001b[38;5;124mr\u001b[39m\u001b[38;5;124m'\u001b[39m) \u001b[38;5;28;01mas\u001b[39;00m file:\n\u001b[0;32m      5\u001b[0m     data \u001b[38;5;241m=\u001b[39m file\u001b[38;5;241m.\u001b[39mread()\n\u001b[0;32m      7\u001b[0m \u001b[38;5;28;01mwith\u001b[39;00m \u001b[38;5;28mopen\u001b[39m(\u001b[38;5;124m'\u001b[39m\u001b[38;5;124moutput.txt\u001b[39m\u001b[38;5;124m'\u001b[39m, \u001b[38;5;124m'\u001b[39m\u001b[38;5;124mw\u001b[39m\u001b[38;5;124m'\u001b[39m) \u001b[38;5;28;01mas\u001b[39;00m file:\n",
      "File \u001b[1;32mC:\\ProgramData\\anaconda3\\Lib\\site-packages\\IPython\\core\\interactiveshell.py:324\u001b[0m, in \u001b[0;36m_modified_open\u001b[1;34m(file, *args, **kwargs)\u001b[0m\n\u001b[0;32m    317\u001b[0m \u001b[38;5;28;01mif\u001b[39;00m file \u001b[38;5;129;01min\u001b[39;00m {\u001b[38;5;241m0\u001b[39m, \u001b[38;5;241m1\u001b[39m, \u001b[38;5;241m2\u001b[39m}:\n\u001b[0;32m    318\u001b[0m     \u001b[38;5;28;01mraise\u001b[39;00m \u001b[38;5;167;01mValueError\u001b[39;00m(\n\u001b[0;32m    319\u001b[0m         \u001b[38;5;124mf\u001b[39m\u001b[38;5;124m\"\u001b[39m\u001b[38;5;124mIPython won\u001b[39m\u001b[38;5;124m'\u001b[39m\u001b[38;5;124mt let you open fd=\u001b[39m\u001b[38;5;132;01m{\u001b[39;00mfile\u001b[38;5;132;01m}\u001b[39;00m\u001b[38;5;124m by default \u001b[39m\u001b[38;5;124m\"\u001b[39m\n\u001b[0;32m    320\u001b[0m         \u001b[38;5;124m\"\u001b[39m\u001b[38;5;124mas it is likely to crash IPython. If you know what you are doing, \u001b[39m\u001b[38;5;124m\"\u001b[39m\n\u001b[0;32m    321\u001b[0m         \u001b[38;5;124m\"\u001b[39m\u001b[38;5;124myou can use builtins\u001b[39m\u001b[38;5;124m'\u001b[39m\u001b[38;5;124m open.\u001b[39m\u001b[38;5;124m\"\u001b[39m\n\u001b[0;32m    322\u001b[0m     )\n\u001b[1;32m--> 324\u001b[0m \u001b[38;5;28;01mreturn\u001b[39;00m io_open(file, \u001b[38;5;241m*\u001b[39margs, \u001b[38;5;241m*\u001b[39m\u001b[38;5;241m*\u001b[39mkwargs)\n",
      "\u001b[1;31mFileNotFoundError\u001b[0m: [Errno 2] No such file or directory: 'input.txt'"
     ]
    }
   ],
   "source": [
    "#Q4. Write a Python script that reads from one file and writes its content to another file.\n",
    "\n",
    "\n",
    "with open('input.txt', 'r') as file:\n",
    "    data = file.read()\n",
    "\n",
    "with open('output.txt', 'w') as file:\n",
    "    file.write(data)"
   ]
  },
  {
   "cell_type": "code",
   "execution_count": null,
   "id": "ccbf14a9-5044-4f20-a268-a508320a8a4c",
   "metadata": {},
   "outputs": [],
   "source": []
  },
  {
   "cell_type": "code",
   "execution_count": 6,
   "id": "adb245d0-33df-45f5-8af0-fdb5c740be25",
   "metadata": {},
   "outputs": [
    {
     "name": "stdout",
     "output_type": "stream",
     "text": [
      "Cannot divide by zero!\n"
     ]
    }
   ],
   "source": [
    "#Q5. How would you catch and handle division by zero error in Python?\n",
    "\n",
    "\n",
    "try:\n",
    "    result = 10 / 0\n",
    "except ZeroDivisionError:\n",
    "    print(\"Cannot divide by zero!\")"
   ]
  },
  {
   "cell_type": "code",
   "execution_count": null,
   "id": "00e051e3-76e2-4202-b1ba-c54fe6840f89",
   "metadata": {},
   "outputs": [],
   "source": []
  },
  {
   "cell_type": "code",
   "execution_count": 7,
   "id": "950a99fe-8f68-4c30-b1b6-1077ded755d7",
   "metadata": {},
   "outputs": [],
   "source": [
    "#Q6. Write a Python program that logs an error message to a log file when a division by zero exception occurs.\n",
    "\n",
    "import logging\n",
    "\n",
    "logging.basicConfig(filename='error.log', level=logging.ERROR)\n",
    "\n",
    "try:\n",
    "    result = 10 / 0\n",
    "except ZeroDivisionError as e:\n",
    "    logging.error(\"Error occurred: %s\", e)"
   ]
  },
  {
   "cell_type": "code",
   "execution_count": null,
   "id": "f73601b4-3c83-4bb3-8c76-c9de60a9f2c9",
   "metadata": {},
   "outputs": [],
   "source": []
  },
  {
   "cell_type": "code",
   "execution_count": 8,
   "id": "e697e239-00cb-43a3-adce-7abace108643",
   "metadata": {},
   "outputs": [],
   "source": [
    "#Q7. How do you log information at different levels (INFO, ERROR, WARNING) in Python using the logging module?\n",
    "\n",
    "\n",
    "import logging\n",
    "\n",
    "logging.basicConfig(level=logging.DEBUG)\n",
    "\n",
    "logging.debug(\"This is a debug message.\")\n",
    "logging.info(\"This is an info message.\")\n",
    "logging.warning(\"This is a warning message.\")\n",
    "logging.error(\"This is an error message.\")\n",
    "logging.critical(\"This is a critical message.\")"
   ]
  },
  {
   "cell_type": "code",
   "execution_count": null,
   "id": "92dc84f9-1e66-4560-91d9-8debd1167b4a",
   "metadata": {},
   "outputs": [],
   "source": []
  },
  {
   "cell_type": "code",
   "execution_count": 9,
   "id": "4464024c-352c-4b52-8e5f-95d03d4ad868",
   "metadata": {},
   "outputs": [
    {
     "name": "stdout",
     "output_type": "stream",
     "text": [
      "Error: File not found.\n"
     ]
    }
   ],
   "source": [
    "#Q8. Write a program to handle a file opening error using exception handling.\n",
    "\n",
    "\n",
    "try:\n",
    "    file = open('nonexistent_file.txt', 'r')\n",
    "except FileNotFoundError:\n",
    "    print(\"Error: File not found.\")"
   ]
  },
  {
   "cell_type": "code",
   "execution_count": null,
   "id": "11937e40-4576-4106-94c5-1690dd64a1a9",
   "metadata": {},
   "outputs": [],
   "source": []
  },
  {
   "cell_type": "code",
   "execution_count": 10,
   "id": "a9cde23f-d131-475f-aec9-bd2af82298d4",
   "metadata": {},
   "outputs": [
    {
     "name": "stdout",
     "output_type": "stream",
     "text": [
      "['Hello, this is a test!']\n"
     ]
    }
   ],
   "source": [
    "#Q9. How can you read a file line by line and store its content in a list in Python?\n",
    "\n",
    "\n",
    "with open('example.txt', 'r') as file:\n",
    "    lines = file.readlines()\n",
    "\n",
    "print(lines)"
   ]
  },
  {
   "cell_type": "code",
   "execution_count": null,
   "id": "2d0b54f9-d6e3-4b81-9626-5f820da13bec",
   "metadata": {},
   "outputs": [],
   "source": []
  },
  {
   "cell_type": "code",
   "execution_count": 11,
   "id": "6007da72-6274-4a44-b664-4cb9fac996d6",
   "metadata": {},
   "outputs": [],
   "source": [
    "#Q10. How can you append data to an existing file in Python?\n",
    "\n",
    "with open('example.txt', 'a') as file:\n",
    "    file.write('\\nAppended text to the file.')"
   ]
  },
  {
   "cell_type": "code",
   "execution_count": null,
   "id": "593c6cfa-b5c5-476e-b18b-131a0b035bbb",
   "metadata": {},
   "outputs": [],
   "source": []
  },
  {
   "cell_type": "code",
   "execution_count": 12,
   "id": "2ec562e8-6a72-4b22-9975-f3075c5f4a9f",
   "metadata": {},
   "outputs": [
    {
     "name": "stdout",
     "output_type": "stream",
     "text": [
      "Key not found!\n"
     ]
    }
   ],
   "source": [
    "#Q11. Write a Python program that uses a try-except block to handle an error when attempting to access a dictionary key that doesn't exist.\n",
    "\n",
    "my_dict = {'a': 1, 'b': 2}\n",
    "\n",
    "try:\n",
    "    value = my_dict['c']\n",
    "except KeyError:\n",
    "    print(\"Key not found!\")"
   ]
  },
  {
   "cell_type": "code",
   "execution_count": null,
   "id": "1891c8dc-d3d7-423c-a760-f450b8645ba4",
   "metadata": {},
   "outputs": [],
   "source": []
  },
  {
   "cell_type": "code",
   "execution_count": 14,
   "id": "455bc007-12cf-4b3d-8f68-49e9c98fc315",
   "metadata": {},
   "outputs": [
    {
     "name": "stdin",
     "output_type": "stream",
     "text": [
      "Enter numerator:  15\n",
      "Enter denominator:  20\n",
      "Enter index to access element from list:  30\n"
     ]
    },
    {
     "name": "stdout",
     "output_type": "stream",
     "text": [
      "Error: Index out of range.\n",
      "Program execution completed.\n"
     ]
    }
   ],
   "source": [
    "#Q12. Write a program that demonstrates using multiple except blocks to handle different types of exceptions.\n",
    "\n",
    "try:\n",
    "    # User input for division\n",
    "    num1 = int(input(\"Enter numerator: \"))\n",
    "    num2 = int(input(\"Enter denominator: \"))\n",
    "    \n",
    "    result = num1 / num2\n",
    "\n",
    "    # Accessing an element from a list\n",
    "    my_list = [10, 20, 30]\n",
    "    index = int(input(\"Enter index to access element from list: \"))\n",
    "    print(\"Element at index\", index, \"is\", my_list[index])\n",
    "\n",
    "except ZeroDivisionError:\n",
    "    print(\"Error: You cannot divide by zero.\")\n",
    "\n",
    "except ValueError:\n",
    "    print(\"Error: Invalid input. Please enter numeric values only.\")\n",
    "\n",
    "except IndexError:\n",
    "    print(\"Error: Index out of range.\")\n",
    "\n",
    "except Exception as e:\n",
    "    print(\"An unexpected error occurred:\", e)\n",
    "\n",
    "else:\n",
    "    print(\"Division successful. Result is:\", result)\n",
    "\n",
    "finally:\n",
    "    print(\"Program execution completed.\")\n",
    "\n"
   ]
  },
  {
   "cell_type": "code",
   "execution_count": null,
   "id": "b9772ee4-0fb0-4a45-a884-0ea9c2374d0e",
   "metadata": {},
   "outputs": [],
   "source": []
  },
  {
   "cell_type": "code",
   "execution_count": 15,
   "id": "d3b6d9c0-ebba-475e-b2ae-99bf918e0c9c",
   "metadata": {},
   "outputs": [
    {
     "name": "stdout",
     "output_type": "stream",
     "text": [
      "Hello, this is a test!\n",
      "Appended text to the file.\n"
     ]
    }
   ],
   "source": [
    "#Q13. How would you check if a file exists before attempting to read it in Python?\n",
    "\n",
    "\n",
    "import os\n",
    "\n",
    "if os.path.exists('example.txt'):\n",
    "    with open('example.txt', 'r') as file:\n",
    "        print(file.read())\n",
    "else:\n",
    "    print(\"File does not exist.\")"
   ]
  },
  {
   "cell_type": "code",
   "execution_count": null,
   "id": "2422d7aa-39e6-4805-93d5-c23c4f35d1bf",
   "metadata": {},
   "outputs": [],
   "source": []
  },
  {
   "cell_type": "code",
   "execution_count": 16,
   "id": "4a41a5fe-e42d-4c40-8e12-6106502425e0",
   "metadata": {},
   "outputs": [],
   "source": [
    "#Q14. Write a program that uses the logging module to log both informational and error messages.\n",
    "\n",
    "\n",
    "import logging\n",
    "\n",
    "logging.basicConfig(level=logging.DEBUG)\n",
    "\n",
    "logging.info(\"This is an info message.\")\n",
    "try:\n",
    "    x = 10 / 0\n",
    "except ZeroDivisionError as e:\n",
    "    logging.error(\"Error: %s\", e)"
   ]
  },
  {
   "cell_type": "code",
   "execution_count": null,
   "id": "3b6cac1a-00bf-43b0-ba78-ef353d8462f3",
   "metadata": {},
   "outputs": [],
   "source": []
  },
  {
   "cell_type": "code",
   "execution_count": 17,
   "id": "374ab028-68c1-4991-a067-9094756a302a",
   "metadata": {},
   "outputs": [
    {
     "name": "stdout",
     "output_type": "stream",
     "text": [
      "File not found.\n"
     ]
    }
   ],
   "source": [
    "#Q15. Write a Python program that prints the content of a file and handles the case when the file is empty.\n",
    "\n",
    "try:\n",
    "    with open('empty_file.txt', 'r') as file:\n",
    "        content = file.read()\n",
    "        if content:\n",
    "            print(content)\n",
    "        else:\n",
    "            print(\"The file is empty.\")\n",
    "except FileNotFoundError:\n",
    "    print(\"File not found.\")"
   ]
  },
  {
   "cell_type": "code",
   "execution_count": null,
   "id": "03eccd23-ad3f-4062-bab1-b5e2605ebb4d",
   "metadata": {},
   "outputs": [],
   "source": []
  },
  {
   "cell_type": "code",
   "execution_count": 18,
   "id": "1c789db8-6271-439a-a87d-ec39622568c5",
   "metadata": {},
   "outputs": [
    {
     "name": "stdout",
     "output_type": "stream",
     "text": [
      "Current memory usage: (168001437, 168020096)\n"
     ]
    }
   ],
   "source": [
    "#Q16. Demonstrate how to use memory profiling to check the memory usage of a small program.\n",
    "\n",
    "\n",
    "import tracemalloc\n",
    "\n",
    "tracemalloc.start()\n",
    "\n",
    "# Sample program\n",
    "a = [1] * (10**6)\n",
    "b = [2] * (2 * 10**7)\n",
    "\n",
    "print(f\"Current memory usage: {tracemalloc.get_traced_memory()}\")\n",
    "\n",
    "tracemalloc.stop()"
   ]
  },
  {
   "cell_type": "code",
   "execution_count": null,
   "id": "5f26baa7-3c57-475a-936d-2b21d4ca88d5",
   "metadata": {},
   "outputs": [],
   "source": []
  },
  {
   "cell_type": "code",
   "execution_count": 19,
   "id": "9a3775d1-fc19-4c98-b06b-fe0668e57188",
   "metadata": {},
   "outputs": [],
   "source": [
    "#Q17. Write a Python program to create and write a list of numbers to a file, one number per line.\n",
    "\n",
    "\n",
    "numbers = [1, 2, 3, 4, 5]\n",
    "\n",
    "with open('numbers.txt', 'w') as file:\n",
    "    for num in numbers:\n",
    "        file.write(f\"{num}\\n\")"
   ]
  },
  {
   "cell_type": "code",
   "execution_count": null,
   "id": "a1409dbf-a26b-4acf-b821-15022cde133f",
   "metadata": {},
   "outputs": [],
   "source": []
  },
  {
   "cell_type": "code",
   "execution_count": 20,
   "id": "ee21fe66-4611-4590-84a1-be463a029457",
   "metadata": {},
   "outputs": [],
   "source": [
    "#Q18. How would you implement a basic logging setup that logs to a file with rotation after 1MB?\n",
    "\n",
    "\n",
    "import logging\n",
    "from logging.handlers import RotatingFileHandler\n",
    "\n",
    "logger = logging.getLogger('MyLogger')\n",
    "handler = RotatingFileHandler('my_log.log', maxBytes=1048576, backupCount=3)\n",
    "logger.addHandler(handler)"
   ]
  },
  {
   "cell_type": "code",
   "execution_count": null,
   "id": "dc03f875-7480-4330-87c9-617a3f338177",
   "metadata": {},
   "outputs": [],
   "source": []
  },
  {
   "cell_type": "code",
   "execution_count": 21,
   "id": "7bcfe17b-6c82-47c9-94c0-3779519225e5",
   "metadata": {},
   "outputs": [
    {
     "name": "stdout",
     "output_type": "stream",
     "text": [
      "Index out of range!\n",
      "Key not found!\n"
     ]
    }
   ],
   "source": [
    "#Q19. Write a program that handles both IndexError and KeyError using a try-except block.\n",
    "\n",
    "\n",
    "my_list = [1, 2, 3]\n",
    "my_dict = {'a': 1}\n",
    "\n",
    "try:\n",
    "    print(my_list[5])\n",
    "except IndexError:\n",
    "    print(\"Index out of range!\")\n",
    "\n",
    "try:\n",
    "    print(my_dict['b'])\n",
    "except KeyError:\n",
    "    print(\"Key not found!\")"
   ]
  },
  {
   "cell_type": "code",
   "execution_count": null,
   "id": "a0cae2cd-c869-49fe-b74c-f63c41990de1",
   "metadata": {},
   "outputs": [],
   "source": []
  },
  {
   "cell_type": "code",
   "execution_count": 22,
   "id": "96d3314f-dc66-4160-b625-305a6e7204bc",
   "metadata": {},
   "outputs": [
    {
     "name": "stdout",
     "output_type": "stream",
     "text": [
      "Hello, this is a test!\n",
      "Appended text to the file.\n"
     ]
    }
   ],
   "source": [
    "#Q20. How would you open a file and read its contents using a context manager in Python?\n",
    "\n",
    "\n",
    "with open('example.txt', 'r') as file:\n",
    "    content = file.read()\n",
    "    print(content)"
   ]
  },
  {
   "cell_type": "code",
   "execution_count": null,
   "id": "739d7517-a73d-465e-92ad-3078726cd9c9",
   "metadata": {},
   "outputs": [],
   "source": []
  },
  {
   "cell_type": "code",
   "execution_count": 23,
   "id": "84ab18b2-af8e-4aae-87b0-74160c523be3",
   "metadata": {},
   "outputs": [
    {
     "name": "stdout",
     "output_type": "stream",
     "text": [
      "Word 'example' occurred 0 times.\n"
     ]
    }
   ],
   "source": [
    "#Q21. Write a Python program that reads a file and prints the number of occurrences of a specific word.\n",
    "\n",
    "word = \"example\"\n",
    "count = 0\n",
    "\n",
    "with open('example.txt', 'r') as file:\n",
    "    for line in file:\n",
    "        count += line.lower().count(word)\n",
    "\n",
    "print(f\"Word '{word}' occurred {count} times.\")"
   ]
  },
  {
   "cell_type": "code",
   "execution_count": null,
   "id": "70f9f11d-7c09-4815-9d1d-5be08d7f661a",
   "metadata": {},
   "outputs": [],
   "source": []
  },
  {
   "cell_type": "code",
   "execution_count": 24,
   "id": "94b513c3-746c-4914-8496-1d861f41ec3f",
   "metadata": {},
   "outputs": [
    {
     "name": "stdout",
     "output_type": "stream",
     "text": [
      "Hello, this is a test!\n",
      "Appended text to the file.\n"
     ]
    }
   ],
   "source": [
    "#Q22. How can you check if a file is empty before attempting to read its contents?\n",
    "\n",
    "import os\n",
    "\n",
    "if os.stat('example.txt').st_size == 0:\n",
    "    print(\"The file is empty.\")\n",
    "else:\n",
    "    with open('example.txt', 'r') as file:\n",
    "        print(file.read())"
   ]
  },
  {
   "cell_type": "code",
   "execution_count": null,
   "id": "fde651d6-a973-40ce-bc57-5f5b6ede6acd",
   "metadata": {},
   "outputs": [],
   "source": []
  },
  {
   "cell_type": "code",
   "execution_count": 25,
   "id": "e370000b-6e30-4136-82e9-20e317337571",
   "metadata": {},
   "outputs": [],
   "source": [
    "#Q23. Write a Python program that writes to a log file when an error occurs during file handling.\n",
    "\n",
    "import logging\n",
    "\n",
    "logging.basicConfig(filename='file_error.log', level=logging.ERROR)\n",
    "\n",
    "try:\n",
    "    with open('missing_file.txt', 'r') as file:\n",
    "        content = file.read()\n",
    "except FileNotFoundError as e:\n",
    "    logging.error(f\"Error occurred: {e}\")"
   ]
  },
  {
   "cell_type": "code",
   "execution_count": null,
   "id": "feb62b1c-0132-4aa4-af80-1ffb1df00135",
   "metadata": {},
   "outputs": [],
   "source": []
  },
  {
   "cell_type": "markdown",
   "id": "44d73efb-1ac3-4548-9ea3-d6458c782941",
   "metadata": {},
   "source": [
    "# Thank You"
   ]
  },
  {
   "cell_type": "code",
   "execution_count": null,
   "id": "f7f9cf03-07ed-491e-9c78-ac2ac5364021",
   "metadata": {},
   "outputs": [],
   "source": []
  }
 ],
 "metadata": {
  "kernelspec": {
   "display_name": "Python 3 (ipykernel)",
   "language": "python",
   "name": "python3"
  },
  "language_info": {
   "codemirror_mode": {
    "name": "ipython",
    "version": 3
   },
   "file_extension": ".py",
   "mimetype": "text/x-python",
   "name": "python",
   "nbconvert_exporter": "python",
   "pygments_lexer": "ipython3",
   "version": "3.12.7"
  }
 },
 "nbformat": 4,
 "nbformat_minor": 5
}
