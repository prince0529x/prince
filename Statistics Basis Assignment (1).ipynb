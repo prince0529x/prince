{
 "cells": [
  {
   "cell_type": "markdown",
   "id": "a64ba418-1d7a-4ad8-9725-dace4f754a02",
   "metadata": {},
   "source": [
    "# Statistics Basics"
   ]
  },
  {
   "cell_type": "markdown",
   "id": "2d88dd53-4a76-4664-b7bf-f500e90392cf",
   "metadata": {},
   "source": [
    "### Q1. What is statistics, and why is it important?\n",
    "ANS:-Statistics is the study of data—how we collect it, analyze it, interpret it, and present it. It's important because it\n",
    "helps us understand patterns, make decisions, and solve problems in everyday life, like figuring out trends in\n",
    "sales or predicting the weather.\n",
    "\n",
    "\n"
   ]
  },
  {
   "cell_type": "code",
   "execution_count": null,
   "id": "2f0c4b06-0abb-4d64-9d6b-88a40eb6a91f",
   "metadata": {},
   "outputs": [],
   "source": []
  },
  {
   "cell_type": "markdown",
   "id": "33ea10f4-09a4-4de4-aaba-77bbb09e64b5",
   "metadata": {},
   "source": [
    "### Q2. What are the two main types of statistics?\n",
    "ANS:- The two main types are:\n",
    ">> Descriptive Statistics, which focuses on summarizing data (e.g., calculating the average marks in a class)\n",
    ">>\n",
    ">> \n",
    ">> Inferential Statistics, which involves making predictions about a larger group based on a smaller sample\n",
    "(e.g., predicting election results using a survey)."
   ]
  },
  {
   "cell_type": "code",
   "execution_count": null,
   "id": "6a8f8597-d540-474d-8327-a683eeca5981",
   "metadata": {},
   "outputs": [],
   "source": []
  },
  {
   "cell_type": "markdown",
   "id": "7cdfddc3-efdf-4250-8c95-748a6a256718",
   "metadata": {},
   "source": [
    "### Q3. What are descriptive statistics?\n",
    "ANS:- Descriptive statistics is all about organizing and summarizing data. For example, instead of looking at\n",
    "individual test scores of a class, you might calculate the average score or find out the highest and lowest\n",
    "scores."
   ]
  },
  {
   "cell_type": "code",
   "execution_count": null,
   "id": "aecc7328-192d-4694-8bd7-3674d51afd2f",
   "metadata": {},
   "outputs": [],
   "source": []
  },
  {
   "cell_type": "markdown",
   "id": "bc0d034a-941d-483a-a017-9ac5bc5c2fd8",
   "metadata": {},
   "source": [
    "### Q4. What is inferential statistics?\n",
    "ANS:- Inferential statistics lets you make guesses about a population based on a smaller sample. For example, if\n",
    "you survey 1,000 people in a city about their favorite restaurant, inferential statistics helps you estimate the\n",
    "preferences of the entire city's population.\n",
    "\n",
    "\n"
   ]
  },
  {
   "cell_type": "code",
   "execution_count": null,
   "id": "0bc0628d-8fac-4040-81b2-e5181ddf427a",
   "metadata": {},
   "outputs": [],
   "source": []
  },
  {
   "cell_type": "markdown",
   "id": "151e2ced-a965-4152-a3d0-2f7e9b2fc54c",
   "metadata": {},
   "source": [
    "### Q5. What is sampling in statistics?\n",
    "ANS:- Sampling is when you select a small group (sample) from a larger group (population) to study. It’s like\n",
    "tasting a spoonful of soup to decide if the whole pot needs more salt."
   ]
  },
  {
   "cell_type": "code",
   "execution_count": null,
   "id": "ff35bb94-6b38-4a5a-a842-0f3ae5a2105d",
   "metadata": {},
   "outputs": [],
   "source": []
  },
  {
   "cell_type": "markdown",
   "id": "17e419f0-ef05-4cac-8367-36a347cfb65c",
   "metadata": {},
   "source": [
    "### Q6. What are the different types of sampling methods?\n",
    "ANS:- There are several types of samplingH\n",
    "> Random Sampling, where everyone has an equal chance of being selected\n",
    "> \n",
    "> Stratified Sampling, where the population is divided into groups, and samples are taken from each group\n",
    "> \n",
    "> Systematic Sampling, where you pick every nth person\n",
    "> \n",
    ">Cluster Sampling, where you randomly select entire groups rather than individuals."
   ]
  },
  {
   "cell_type": "code",
   "execution_count": null,
   "id": "100501c9-349b-49ed-91fd-dc171ef0e207",
   "metadata": {},
   "outputs": [],
   "source": []
  },
  {
   "cell_type": "markdown",
   "id": "db712b19-915f-49a1-83d5-dd2832545468",
   "metadata": {},
   "source": [
    "### Q7. What is the difference between random and non-random sampling?\n",
    "ANS:- In random sampling, everyone in the population has an equal chance of being chosen, like drawing names\n",
    "from a hat. In non-random sampling, selection isn’t random, and bias might creep in, like only surveying\n",
    "people who are easy to reach."
   ]
  },
  {
   "cell_type": "code",
   "execution_count": null,
   "id": "7e5641b5-0501-4bcc-8bf0-05c2cf2fbc40",
   "metadata": {},
   "outputs": [],
   "source": []
  },
  {
   "cell_type": "markdown",
   "id": "d54ed165-7ff4-4d65-9738-afdb4d2d6ac0",
   "metadata": {},
   "source": [
    "### Q8. Define and give examples of qualitative and quantitative data?\n",
    "ANS:- >Qualitative Data: Describes qualities, like eye color or types of cars.\n",
    "\n",
    "Example: Red, blue, and green are eye colors\u001f\n",
    "> Quantitative Data: Involves numbers, like height or age.\n",
    "\n",
    "Example: 5 feet 7 inches tall, 25 years old.\n",
    "\n",
    "\n"
   ]
  },
  {
   "cell_type": "code",
   "execution_count": null,
   "id": "98c1028e-9a8e-4de3-80a4-10a800eb0d08",
   "metadata": {},
   "outputs": [],
   "source": []
  },
  {
   "cell_type": "markdown",
   "id": "edc12e55-804a-4f36-b00a-ab445c613fa8",
   "metadata": {},
   "source": [
    "### Q9. What are the different types of data in statistics?\n",
    "ANS:- Data can be:\n",
    "> Nominal: Names or labels (e.g., colors of cars).\n",
    "> \n",
    "> Ordinal: Ordered categories (e.g., small, medium, large sizes).\n",
    "> \n",
    "> Interval: Numeric with no true zero (e.g., temperature in Celsius).\n",
    "> \n",
    "> Ratio: Numeric with a true zero (e.g., weight in kilograms)."
   ]
  },
  {
   "cell_type": "code",
   "execution_count": null,
   "id": "b9e7a069-78bc-4b98-92e2-3b2a27c60efe",
   "metadata": {},
   "outputs": [],
   "source": []
  },
  {
   "cell_type": "markdown",
   "id": "508cd895-1ff9-4d07-b61f-a3e61a49c72b",
   "metadata": {},
   "source": [
    "### Q10. Explain nominal, ordinal, interval, and ratio levels of measurement?\n",
    "ANS:- \n",
    ">Nominal: Categories without order (e.g., fruits like apples or oranges).\n",
    ">\n",
    ">Ordinal: Categories with order (e.g., satisfaction levels like good, better, best).\n",
    ">\n",
    ">Interval: Numeric, equal intervals, no true zero (e.g., 20°C vs. 40°C).\n",
    ">\n",
    "> Ratio: Numeric, equal intervals, true zero (e.g., 0 kilograms means no weight)."
   ]
  },
  {
   "cell_type": "code",
   "execution_count": null,
   "id": "432005d9-b4ed-4151-bf85-7e7bb516374f",
   "metadata": {},
   "outputs": [],
   "source": []
  },
  {
   "cell_type": "markdown",
   "id": "64de693b-627a-4858-913f-4bd3a4098953",
   "metadata": {},
   "source": [
    "### Q11. What is the measure of central tendency?\n",
    "ANS:- It’s a way to find the “center” or typical value of a dataset. Common examples are the mean (average),\n",
    "median (middle value), and mode (most frequent value)."
   ]
  },
  {
   "cell_type": "code",
   "execution_count": null,
   "id": "ff7fba61-48b7-4fe2-b201-3f111a6b620c",
   "metadata": {},
   "outputs": [],
   "source": []
  },
  {
   "cell_type": "markdown",
   "id": "82d552e8-70bb-4774-8f39-e1ce2d0c3d4a",
   "metadata": {},
   "source": [
    "### Q12. Define mean, median, and mode?\n",
    "ANS:- Mean: Add all numbers and divide by how many there are.\n",
    "\n",
    "Example: The mean of 2, 4, and 6 is 4\u001f\n",
    ">Median: The middle value when data is ordered.\n",
    "\n",
    "Example: In 1, 3, and 5, the median is 3\u001f\n",
    "> Mode: The value that appears most often.\n",
    "\n",
    "Example: In 1, 2, 2, 3, the mode is 2."
   ]
  },
  {
   "cell_type": "code",
   "execution_count": null,
   "id": "073277f7-2eef-432e-929a-036c661607fc",
   "metadata": {},
   "outputs": [],
   "source": []
  },
  {
   "cell_type": "markdown",
   "id": "d6f9c611-5c0c-4c11-9e1f-3758078f4f76",
   "metadata": {},
   "source": [
    "### Q13. What is the significance of the measure of central tendency?\n",
    "ANS :-It helps summarize a large dataset with a single value, making it easier to understand and compare different\n",
    "datasets."
   ]
  },
  {
   "cell_type": "code",
   "execution_count": null,
   "id": "ba240387-ff2c-444b-a8c3-c27193639fcf",
   "metadata": {},
   "outputs": [],
   "source": []
  },
  {
   "cell_type": "markdown",
   "id": "b1903694-579e-466c-b4b4-7620441734a1",
   "metadata": {},
   "source": [
    "### Q14. What is variance, and how is it calculated?\n",
    "ANS:- Variance shows how spread out the numbers in a dataset are. To calculate it, you find the average of the\n",
    "squared differences from the mean."
   ]
  },
  {
   "cell_type": "code",
   "execution_count": null,
   "id": "a1e29d84-703a-4c63-9556-6be49929737e",
   "metadata": {},
   "outputs": [],
   "source": []
  },
  {
   "cell_type": "markdown",
   "id": "ad07a074-d8ac-4ea0-b527-42ae14ebbe31",
   "metadata": {},
   "source": [
    "### Q15. What is standard deviation, and why is it important?\n",
    "ANS:- Standard deviation measures the average distance of data points from the mean. It’s important because it\n",
    "tells you how much variation exists in your data."
   ]
  },
  {
   "cell_type": "code",
   "execution_count": null,
   "id": "da142c26-aadb-428f-8433-8551444ce106",
   "metadata": {},
   "outputs": [],
   "source": []
  },
  {
   "cell_type": "markdown",
   "id": "1f8ab8bb-59fa-4b25-a64f-112ed95272f9",
   "metadata": {},
   "source": [
    "### Q16. Define and explain the term range in statistics?\n",
    "ANS:- The range is the difference between the highest and lowest values in a dataset. For example, if the highest\n",
    "mark is 90 and the lowest is 50, the range is 40."
   ]
  },
  {
   "cell_type": "code",
   "execution_count": null,
   "id": "4db4f49c-dfa6-4a3b-9db1-dd1ba8a67ee0",
   "metadata": {},
   "outputs": [],
   "source": []
  },
  {
   "cell_type": "markdown",
   "id": "9e6f3f44-6b2c-4fb4-9e33-368a7c188130",
   "metadata": {},
   "source": [
    "### Q17. What is the difference between variance and standard deviation?\n",
    "ANS:- Variance is the average of the squared differences from the mean, while standard deviation is the square\n",
    "root of variance. Standard deviation is easier to interpret because it’s in the same units as the data."
   ]
  },
  {
   "cell_type": "code",
   "execution_count": null,
   "id": "7669de22-0f3c-41a9-b05e-10a6dc1efc8a",
   "metadata": {},
   "outputs": [],
   "source": []
  },
  {
   "cell_type": "markdown",
   "id": "ce1610f9-8d35-420a-a117-a2a04645d129",
   "metadata": {},
   "source": [
    "### Q18. What is skewness in a dataset?\n",
    "ANS :-Skewness measures how much a dataset is tilted to one side. A positive skew means a longer tail on the\n",
    "right, while a negative skew means a longer tail on the left"
   ]
  },
  {
   "cell_type": "code",
   "execution_count": null,
   "id": "62805a77-5b3f-4a33-859d-28d8a4fd86d2",
   "metadata": {},
   "outputs": [],
   "source": []
  },
  {
   "cell_type": "markdown",
   "id": "d44bebed-5057-4705-9ad5-ad4fc8a22eba",
   "metadata": {},
   "source": [
    "### Q19. What does it mean if a dataset is positively or negatively skewed?\n",
    "ANS:- Positively Skewed: Most data points are on the lower side, with a tail on the higher side (e.g., income\n",
    "distribution):\n",
    "\n",
    " Negatively Skewed: Most data points are on the higher side, with a tail on the lower side."
   ]
  },
  {
   "cell_type": "code",
   "execution_count": null,
   "id": "db80cda2-67c7-444e-a6e1-1f1d5703f0be",
   "metadata": {},
   "outputs": [],
   "source": []
  },
  {
   "cell_type": "markdown",
   "id": "e1077c3a-d6a5-4538-969a-68f2223265f4",
   "metadata": {},
   "source": [
    "### Q20. Define and explain kurtosis?\n",
    "ANS:- Kurtosis is about how “pointy” or “flat” a distribution is. High kurtosis means heavy tails and outliers, while low\n",
    "kurtosis indicates a flatter distribution.\n",
    "\n",
    "\n"
   ]
  },
  {
   "cell_type": "code",
   "execution_count": null,
   "id": "a0b545c7-0b1e-4aa4-a7a1-687c49433022",
   "metadata": {},
   "outputs": [],
   "source": []
  },
  {
   "cell_type": "markdown",
   "id": "f66020bc-6667-4837-8049-5b1c89077421",
   "metadata": {},
   "source": [
    "### Q21. What is the purpose of covariance?\n",
    "ANS:-Covariance shows how two variables change together. If they increase together, covariance is positive. If one\n",
    "increases while the other decreases, it’s negative."
   ]
  },
  {
   "cell_type": "code",
   "execution_count": null,
   "id": "5ca5c897-af2b-4f42-990c-c029d2ce61b4",
   "metadata": {},
   "outputs": [],
   "source": []
  },
  {
   "cell_type": "markdown",
   "id": "26ee4049-406d-4098-a975-b816eb0bf315",
   "metadata": {},
   "source": [
    "### Q22. What does correlation measure in statistics?\n",
    "ANS:-Correlation measures the strength and direction of the relationship between two variables. A correlation of 1\n",
    "means a perfect positive relationship, while -1 means a perfect negative relationship."
   ]
  },
  {
   "cell_type": "code",
   "execution_count": null,
   "id": "21bfd1be-21c4-4a06-92e7-07c61bc3b286",
   "metadata": {},
   "outputs": [],
   "source": []
  },
  {
   "cell_type": "markdown",
   "id": "5f172c1f-7c07-41d7-afff-e077a1c0f671",
   "metadata": {},
   "source": [
    "### Q23. What is the difference between covariance and correlation?\n",
    "ANS:-Covariance tells you the direction of the relationship, but its value depends on the scale of the variables.\n",
    "Correlation standardizes this relationship, making it easier to interpret."
   ]
  },
  {
   "cell_type": "code",
   "execution_count": null,
   "id": "6dfe4a67-e7f9-4a7a-a181-71051b4e1d2c",
   "metadata": {},
   "outputs": [],
   "source": []
  },
  {
   "cell_type": "markdown",
   "id": "8d6ef973-29a4-4fb2-9353-0c8d404d87e7",
   "metadata": {},
   "source": [
    "### Q24. What are some real-world applications of statistics?\n",
    "ANS:- Statistics are used everywhere! In business, it’s used for sales forecasting. In healthcare, it’s used to study\n",
    "disease patterns. Even in sports, stats are used to analyze player performance."
   ]
  },
  {
   "cell_type": "code",
   "execution_count": null,
   "id": "f7183b86-f16a-4343-97ee-f9e50f711d1a",
   "metadata": {},
   "outputs": [],
   "source": []
  },
  {
   "cell_type": "markdown",
   "id": "d77cf700-1492-434d-a987-282017a444c0",
   "metadata": {},
   "source": [
    "# Practical "
   ]
  },
  {
   "cell_type": "markdown",
   "id": "c7255fb6-b318-44e0-b8f1-727ba40c2949",
   "metadata": {},
   "source": [
    "### 1. How do you calculate the mean, median, and mode of a dataset?"
   ]
  },
  {
   "cell_type": "code",
   "execution_count": 1,
   "id": "b14bf443-7b75-4d8b-a4f4-4e5e60676b07",
   "metadata": {},
   "outputs": [
    {
     "name": "stdout",
     "output_type": "stream",
     "text": [
      "Mean: 4.125\n",
      "Median: 4.5\n",
      "Mode: 5\n"
     ]
    }
   ],
   "source": [
    "import numpy as np\n",
    "from scipy import stats\n",
    "\n",
    "data = [1, 2, 3, 4, 5, 5, 6, 7]\n",
    "\n",
    "mean = np.mean(data)\n",
    "median = np.median(data)\n",
    "mode = stats.mode(data)\n",
    "\n",
    "# The mode object returns a ModeResult with mode and count, so we directly access mode\n",
    "print(f\"Mean: {mean}\")\n",
    "print(f\"Median: {median}\")\n",
    "print(f\"Mode: {mode.mode}\")  # Mode is already returned as an array, so no need to index it"
   ]
  },
  {
   "cell_type": "code",
   "execution_count": null,
   "id": "1bc5e16e-a54d-4bee-9f06-045387dc1a4e",
   "metadata": {},
   "outputs": [],
   "source": []
  },
  {
   "cell_type": "markdown",
   "id": "9556cedd-5245-4399-890a-a33c0db61e73",
   "metadata": {},
   "source": [
    "### Q2.  Write a Python program to compute the variance and standard deviation of a dataset."
   ]
  },
  {
   "cell_type": "code",
   "execution_count": 2,
   "id": "8d150bf0-bce7-4980-a001-a38209c10b66",
   "metadata": {},
   "outputs": [
    {
     "name": "stdout",
     "output_type": "stream",
     "text": [
      "Variance: 4.571428571428571\n",
      "Standard Deviation: 2.138089935299395\n"
     ]
    }
   ],
   "source": [
    "# Import required library\n",
    "import numpy as np\n",
    "\n",
    "# Define the dataset\n",
    "data = [2, 4, 4, 4, 5, 5, 7, 9]\n",
    "\n",
    "# Calculate variance and standard deviation\n",
    "variance = np.var(data, ddof=1)  # Sample variance\n",
    "std_dev = np.std(data, ddof=1)  # Sample standard deviation\n",
    "\n",
    "# Print results\n",
    "print(f\"Variance: {variance}\")\n",
    "print(f\"Standard Deviation: {std_dev}\")"
   ]
  },
  {
   "cell_type": "code",
   "execution_count": null,
   "id": "16f234de-835e-4873-b533-5f4da9fe969d",
   "metadata": {},
   "outputs": [],
   "source": []
  },
  {
   "cell_type": "markdown",
   "id": "78f0327b-c3ab-40c1-9ac4-eee7de7ac87f",
   "metadata": {},
   "source": [
    "### Q3. Create a dataset and classify it into nominal, ordinal, interval, and ratio types."
   ]
  },
  {
   "cell_type": "code",
   "execution_count": 3,
   "id": "49c49852-b07a-4382-8c85-1ffba85319fc",
   "metadata": {},
   "outputs": [
    {
     "name": "stdout",
     "output_type": "stream",
     "text": [
      "Nominal Data: ['Red', 'Blue', 'Green']\n",
      "Ordinal Data: ['Small', 'Medium', 'Large']\n",
      "Interval Data: [-10, 0, 10, 20, 30]\n",
      "Ratio Data: [0, 50, 75, 100]\n"
     ]
    }
   ],
   "source": [
    "# Nominal data: Categories without a specific order\n",
    "colors = ['Red', 'Blue', 'Green']\n",
    "\n",
    "# Ordinal data: Categories with a meaningful order\n",
    "sizes = ['Small', 'Medium', 'Large']\n",
    "\n",
    "# Interval data: Numerical data with meaningful differences but no true zero\n",
    "temperatures = [-10, 0, 10, 20, 30]\n",
    "\n",
    "# Ratio data: Numerical data with a true zero point\n",
    "weights = [0, 50, 75, 100]\n",
    "\n",
    "# Print classifications\n",
    "print(\"Nominal Data:\", colors)\n",
    "print(\"Ordinal Data:\", sizes)\n",
    "print(\"Interval Data:\", temperatures)\n",
    "print(\"Ratio Data:\", weights)"
   ]
  },
  {
   "cell_type": "code",
   "execution_count": null,
   "id": "3527a954-cb32-40b8-8cd4-9bf485b0a00c",
   "metadata": {},
   "outputs": [],
   "source": []
  },
  {
   "cell_type": "markdown",
   "id": "27c4c39f-5f3c-44f3-a9a1-98bd83ac5527",
   "metadata": {},
   "source": [
    "### Q4. Implement sampling techniques like random sampling and stratified sampling."
   ]
  },
  {
   "cell_type": "code",
   "execution_count": 6,
   "id": "7abcd699-f03d-4560-9469-f6124b06b28d",
   "metadata": {},
   "outputs": [
    {
     "name": "stdout",
     "output_type": "stream",
     "text": [
      "Random Sample:\n",
      "  Name  Score Category\n",
      "4    E     95     High\n",
      "3    D     70      Low\n",
      "\n",
      "Stratified Sample:\n",
      "  Name  Score Category\n",
      "4    E     95     High\n",
      "3    D     70      Low\n",
      "2    C     88   Medium\n"
     ]
    },
    {
     "name": "stderr",
     "output_type": "stream",
     "text": [
      "C:\\Users\\HP\\AppData\\Local\\Temp\\ipykernel_16196\\2048375608.py:16: FutureWarning: DataFrameGroupBy.apply operated on the grouping columns. This behavior is deprecated, and in a future version of pandas the grouping columns will be excluded from the operation. Either pass `include_groups=False` to exclude the groupings or explicitly select the grouping columns after groupby to silence this warning.\n",
      "  stratified_sample = data.groupby('Category', group_keys=False).apply(lambda x: x.sample(1))\n"
     ]
    }
   ],
   "source": [
    "# Import required libraries\n",
    "import pandas as pd\n",
    "from sklearn.model_selection import train_test_split\n",
    "\n",
    "# Define a sample dataset\n",
    "data = pd.DataFrame({\n",
    "    'Name': ['A', 'B', 'C', 'D', 'E'],\n",
    "    'Score': [90, 85, 88, 70, 95],\n",
    "    'Category': ['High', 'High', 'Medium', 'Low', 'High']\n",
    "})\n",
    "\n",
    "# Random sampling\n",
    "random_sample = data.sample(n=2)\n",
    "\n",
    "# Stratified sampling\n",
    "stratified_sample = data.groupby('Category', group_keys=False).apply(lambda x: x.sample(1))\n",
    "\n",
    "# Print results\n",
    "print(\"Random Sample:\")\n",
    "print(random_sample)\n",
    "print(\"\\nStratified Sample:\")\n",
    "print(stratified_sample)"
   ]
  },
  {
   "cell_type": "code",
   "execution_count": null,
   "id": "45f12eb3-0597-4ac7-bb47-6e125011d815",
   "metadata": {},
   "outputs": [],
   "source": []
  },
  {
   "cell_type": "markdown",
   "id": "84b5e58c-3218-40e1-aea8-9424c2c0ad54",
   "metadata": {},
   "source": [
    "### Q5. Write a Python function to calculate the range of a dataset."
   ]
  },
  {
   "cell_type": "code",
   "execution_count": 7,
   "id": "ea0ca94a-58da-469e-82a1-4bbc0e5682c6",
   "metadata": {},
   "outputs": [
    {
     "name": "stdout",
     "output_type": "stream",
     "text": [
      "Range of dataset: 38\n"
     ]
    }
   ],
   "source": [
    "def calculate_range(data):\n",
    "    if not data:\n",
    "        return None  # Handle empty list\n",
    "    return max(data) - min(data)\n",
    "\n",
    "# Example usage\n",
    "dataset = [4, 8, 15, 16, 23, 42]\n",
    "result = calculate_range(dataset)\n",
    "print(\"Range of dataset:\", result)\n"
   ]
  },
  {
   "cell_type": "code",
   "execution_count": null,
   "id": "3f1cc492-b8ee-46f5-8fe1-62c56172edf3",
   "metadata": {},
   "outputs": [],
   "source": []
  },
  {
   "cell_type": "markdown",
   "id": "b1cd3128-f912-46b6-bdd6-326b813f0d9d",
   "metadata": {},
   "source": [
    "### Q6.Create a dataset and plot its histogram to visualize skewness."
   ]
  },
  {
   "cell_type": "code",
   "execution_count": 8,
   "id": "e619fba3-ac64-4444-967f-1ae325a58592",
   "metadata": {},
   "outputs": [
    {
     "data": {
      "image/png": "[encoded data removed]",
      "text/plain": [
       "<Figure size 640x480 with 1 Axes>"
      ]
     },
     "metadata": {},
     "output_type": "display_data"
    }
   ],
   "source": [
    "# Import required library\n",
    "import matplotlib.pyplot as plt\n",
    "\n",
    "# Define the dataset\n",
    "data = [1, 2, 2, 3, 3, 3, 4, 5, 6, 6, 7]\n",
    "\n",
    "# Create and display a histogram\n",
    "plt.hist(data, bins=6, edgecolor='black')\n",
    "plt.title('Histogram of Dataset')\n",
    "plt.xlabel('Data')\n",
    "plt.ylabel('Frequency')\n",
    "plt.show()"
   ]
  },
  {
   "cell_type": "code",
   "execution_count": null,
   "id": "97485ff0-87df-4787-8a6a-502426b7508f",
   "metadata": {},
   "outputs": [],
   "source": []
  },
  {
   "cell_type": "markdown",
   "id": "a702c50b-9c6c-4df8-bb0b-834ce243bec1",
   "metadata": {},
   "source": [
    "### Q7. Calculate skewness and kurtosis of a dataset using Python libraries."
   ]
  },
  {
   "cell_type": "code",
   "execution_count": 9,
   "id": "798802b9-1ab6-4e55-8066-61fa2e04f36b",
   "metadata": {},
   "outputs": [
    {
     "name": "stdout",
     "output_type": "stream",
     "text": [
      "Skewness: 0.0\n",
      "Kurtosis: -1.4166666666666667\n"
     ]
    }
   ],
   "source": [
    "# Import required library\n",
    "from scipy.stats import skew, kurtosis\n",
    "\n",
    "# Define the dataset\n",
    "data = [1, 2, 2, 3, 4, 5, 6, 6, 7]\n",
    "\n",
    "# Calculate skewness and kurtosis\n",
    "skewness = skew(data)\n",
    "kurt = kurtosis(data)\n",
    "\n",
    "# Print results\n",
    "print(f\"Skewness: {skewness}\")\n",
    "print(f\"Kurtosis: {kurt}\")"
   ]
  },
  {
   "cell_type": "code",
   "execution_count": null,
   "id": "fca60611-c7de-4204-8cbc-d81e64de0237",
   "metadata": {},
   "outputs": [],
   "source": []
  },
  {
   "cell_type": "markdown",
   "id": "095dff49-1b04-44da-b85b-ead8faebbc2b",
   "metadata": {},
   "source": [
    "### Q8.Generate a dataset and demonstrate positive and negative skewness.\n"
   ]
  },
  {
   "cell_type": "code",
   "execution_count": 12,
   "id": "5c59b8f2-1a64-4392-b2eb-1ac42c6bf086",
   "metadata": {},
   "outputs": [
    {
     "data": {
      "image/png": "[encoded data removed]",
      "text/plain": [
       "<Figure size 640x480 with 1 Axes>"
      ]
     },
     "metadata": {},
     "output_type": "display_data"
    },
    {
     "data": {
      "image/png": "[encoded data removed]",
      "text/plain": [
       "<Figure size 640x480 with 1 Axes>"
      ]
     },
     "metadata": {},
     "output_type": "display_data"
    }
   ],
   "source": [
    "# Import required libraries\n",
    "import matplotlib.pyplot as plt\n",
    "import seaborn as sns\n",
    "\n",
    "# Define datasets\n",
    "positive_skew = [1, 2, 3, 4, 5, 6, 20]\n",
    "negative_skew = [1, 2, 10, 11, 12, 13, 14]\n",
    "\n",
    "# Plot positive skew\n",
    "sns.histplot(positive_skew, kde=True, color=\"blue\")\n",
    "plt.title(\"Positive Skew\")\n",
    "plt.xlabel(\"Data\")\n",
    "plt.ylabel(\"Frequency\")\n",
    "plt.show()\n",
    "\n",
    "# Plot negative skew\n",
    "sns.histplot(negative_skew, kde=True, color=\"red\")\n",
    "plt.title(\"Negative Skew\")\n",
    "plt.xlabel(\"Data\")\n",
    "plt.ylabel(\"Frequency\")\n",
    "plt.show()"
   ]
  },
  {
   "cell_type": "code",
   "execution_count": null,
   "id": "cbfbca65-434c-4760-a077-a6d9736acef0",
   "metadata": {},
   "outputs": [],
   "source": []
  },
  {
   "cell_type": "markdown",
   "id": "066ca104-84fa-43d5-89c6-4ed328017ad5",
   "metadata": {},
   "source": [
    "### Q9.Write a Python script to calculate covariance between two datasets."
   ]
  },
  {
   "cell_type": "code",
   "execution_count": 13,
   "id": "94f5cb4b-56d4-42eb-916e-f7c33a8871bb",
   "metadata": {},
   "outputs": [
    {
     "name": "stdout",
     "output_type": "stream",
     "text": [
      "Covariance: 5.0\n"
     ]
    }
   ],
   "source": [
    "# Import required library\n",
    "import numpy as np\n",
    "\n",
    "# Define datasets\n",
    "x = [1, 2, 3, 4, 5]\n",
    "y = [2, 4, 6, 8, 10]\n",
    "\n",
    "# Calculate covariance\n",
    "covariance = np.cov(x, y)[0][1]\n",
    "\n",
    "# Print result\n",
    "print(f\"Covariance: {covariance}\")"
   ]
  },
  {
   "cell_type": "code",
   "execution_count": null,
   "id": "a5e5fb7d-7d9b-4746-9767-e0733cb5a9c6",
   "metadata": {},
   "outputs": [],
   "source": []
  },
  {
   "cell_type": "markdown",
   "id": "3c212575-64d2-411a-8648-eb49d14f801a",
   "metadata": {},
   "source": [
    "### Q10.Write a Python script to calculate the correlation coefficient between two datasets?"
   ]
  },
  {
   "cell_type": "code",
   "execution_count": 14,
   "id": "43e5584d-d77a-4a94-bb74-73b25704d9f7",
   "metadata": {},
   "outputs": [
    {
     "name": "stdout",
     "output_type": "stream",
     "text": [
      "Correlation Coefficient: 0.9999999999999999\n"
     ]
    }
   ],
   "source": [
    "# Import required library\n",
    "import numpy as np\n",
    "\n",
    "# Define datasets\n",
    "x = [1, 2, 3, 4, 5]\n",
    "y = [2, 4, 6, 8, 10]\n",
    "\n",
    "# Calculate correlation coefficient\n",
    "correlation = np.corrcoef(x, y)[0][1]\n",
    "\n",
    "# Print result\n",
    "print(f\"Correlation Coefficient: {correlation}\")"
   ]
  },
  {
   "cell_type": "code",
   "execution_count": null,
   "id": "8488d145-1892-43db-a910-9a39c295f86e",
   "metadata": {},
   "outputs": [],
   "source": []
  },
  {
   "cell_type": "markdown",
   "id": "8c4c13c8-3ca4-4077-ad46-8aad69066d47",
   "metadata": {},
   "source": [
    "### Q11.Create a scatter plot to visualize the relationship between two variables."
   ]
  },
  {
   "cell_type": "code",
   "execution_count": 15,
   "id": "ac4b1f40-d618-40dc-bbba-6aa838e157f1",
   "metadata": {},
   "outputs": [
    {
     "data": {
      "image/png": "[encoded data removed]",
      "text/plain": [
       "<Figure size 640x480 with 1 Axes>"
      ]
     },
     "metadata": {},
     "output_type": "display_data"
    }
   ],
   "source": [
    "# Import required libraries\n",
    "import matplotlib.pyplot as plt\n",
    "\n",
    "# Define two variables\n",
    "x = [1, 2, 3, 4, 5]\n",
    "y = [2, 4, 5, 7, 11]\n",
    "\n",
    "# Create a scatter plot\n",
    "plt.scatter(x, y, color='blue', edgecolors='black')\n",
    "plt.title('Scatter Plot of X vs Y')\n",
    "plt.xlabel('X')\n",
    "plt.ylabel('Y')\n",
    "plt.grid(True)\n",
    "plt.show()"
   ]
  },
  {
   "cell_type": "code",
   "execution_count": null,
   "id": "bdb2fcfa-237b-4cf3-8efb-5ce9891d676a",
   "metadata": {},
   "outputs": [],
   "source": []
  },
  {
   "cell_type": "markdown",
   "id": "c39deeef-615a-4e1d-8443-61ab91921b1c",
   "metadata": {},
   "source": [
    "### Q12. Implement and compare simple random sampling and systematic sampling."
   ]
  },
  {
   "cell_type": "code",
   "execution_count": 16,
   "id": "ce4b203b-7bba-4334-a44e-e298fe7bcf7b",
   "metadata": {},
   "outputs": [
    {
     "name": "stdout",
     "output_type": "stream",
     "text": [
      "Simple Random Sampling:\n",
      "     ID  Value\n",
      "15  16     15\n",
      "8    9     70\n",
      "9   10     14\n",
      "13  14      3\n",
      "5    6     94\n",
      "\n",
      "Systematic Sampling:\n",
      "     ID  Value\n",
      "0    1     69\n",
      "4    5     70\n",
      "8    9     70\n",
      "12  13     88\n",
      "16  17     29\n"
     ]
    }
   ],
   "source": [
    "# Import required library\n",
    "import pandas as pd\n",
    "import numpy as np\n",
    "\n",
    "# Define a dataset\n",
    "data = pd.DataFrame({'ID': range(1, 21), 'Value': np.random.randint(1, 100, 20)})\n",
    "\n",
    "# Simple random sampling\n",
    "random_sample = data.sample(n=5)\n",
    "\n",
    "# Systematic sampling\n",
    "step = 4\n",
    "systematic_sample = data.iloc[::step]\n",
    "\n",
    "# Print results\n",
    "print(\"Simple Random Sampling:\\n\", random_sample)\n",
    "print(\"\\nSystematic Sampling:\\n\", systematic_sample)"
   ]
  },
  {
   "cell_type": "code",
   "execution_count": null,
   "id": "50bf496c-66cd-4d2c-9a7d-3fc10397d784",
   "metadata": {},
   "outputs": [],
   "source": []
  },
  {
   "cell_type": "markdown",
   "id": "cbdd8bfe-2a54-4049-a579-0c2af95cbf32",
   "metadata": {},
   "source": [
    "### Q13.Calculate the mean, median, and mode of grouped data."
   ]
  },
  {
   "cell_type": "code",
   "execution_count": 17,
   "id": "c1238524-e043-4575-966b-598fae31afff",
   "metadata": {},
   "outputs": [
    {
     "name": "stdout",
     "output_type": "stream",
     "text": [
      "Grouped Data:\n",
      "   Class Interval  Frequency  Midpoint\n",
      "0           0-10          5       5.0\n",
      "1          10-20          8      15.0\n",
      "2          20-30         10      25.0\n",
      "3          30-40          7      35.0\n",
      "\n",
      "Mean of Grouped Data: 21.333333333333332\n"
     ]
    }
   ],
   "source": [
    "# Import required libraries\n",
    "import pandas as pd\n",
    "\n",
    "# Define grouped data (class intervals and frequencies)\n",
    "grouped_data = pd.DataFrame({\n",
    "    'Class Interval': ['0-10', '10-20', '20-30', '30-40'],\n",
    "    'Frequency': [5, 8, 10, 7]\n",
    "})\n",
    "\n",
    "# Calculate midpoints\n",
    "grouped_data['Midpoint'] = grouped_data['Class Interval'].apply(lambda x: (int(x.split('-')[0]) + int(x.split('-')[1])) / 2)\n",
    "\n",
    "# Calculate mean\n",
    "mean = sum(grouped_data['Midpoint'] * grouped_data['Frequency']) / sum(grouped_data['Frequency'])\n",
    "\n",
    "# Print result\n",
    "print(\"Grouped Data:\\n\", grouped_data)\n",
    "print(f\"\\nMean of Grouped Data: {mean}\")"
   ]
  },
  {
   "cell_type": "code",
   "execution_count": null,
   "id": "10eeca40-1fd8-4c92-b2ff-8de1e60b7d8d",
   "metadata": {},
   "outputs": [],
   "source": []
  },
  {
   "cell_type": "markdown",
   "id": "34f9b1d2-084e-4c15-a712-8aecfb67d002",
   "metadata": {},
   "source": [
    "### Q14.Simulate data using Python and calculate its central tendency and dispersion."
   ]
  },
  {
   "cell_type": "code",
   "execution_count": 18,
   "id": "4ef95a97-558a-4847-ace1-29362567d96a",
   "metadata": {},
   "outputs": [
    {
     "name": "stdout",
     "output_type": "stream",
     "text": [
      "Mean: 45.72\n",
      "Median: 43.0\n",
      "Mode: 50\n",
      "Variance: 747.6816\n",
      "Standard Deviation: 27.343767114280357\n"
     ]
    }
   ],
   "source": [
    "# Import required libraries\n",
    "import numpy as np\n",
    "import statistics\n",
    "\n",
    "# Simulate data\n",
    "data = np.random.randint(1, 100, 50)\n",
    "\n",
    "# Calculate central tendency and dispersion\n",
    "mean = np.mean(data)\n",
    "median = np.median(data)\n",
    "mode = statistics.mode(data)\n",
    "variance = np.var(data)\n",
    "std_dev = np.std(data)\n",
    "\n",
    "# Print results\n",
    "print(f\"Mean: {mean}\")\n",
    "print(f\"Median: {median}\")\n",
    "print(f\"Mode: {mode}\")\n",
    "print(f\"Variance: {variance}\")\n",
    "print(f\"Standard Deviation: {std_dev}\")"
   ]
  },
  {
   "cell_type": "code",
   "execution_count": null,
   "id": "2a419283-41a1-4d63-82bc-06452f40dff9",
   "metadata": {},
   "outputs": [],
   "source": []
  },
  {
   "cell_type": "markdown",
   "id": "3fbbd38a-b8bf-4c76-8ed7-155a6f734d33",
   "metadata": {},
   "source": [
    "### Q15. Use NumPy or pandas to summarize a dataset’s descriptive statistics."
   ]
  },
  {
   "cell_type": "code",
   "execution_count": 19,
   "id": "17d06ced-e0c1-42db-b0d4-d899f0799efd",
   "metadata": {},
   "outputs": [
    {
     "name": "stdout",
     "output_type": "stream",
     "text": [
      "Descriptive Statistics:\n",
      "            Value\n",
      "count   9.000000\n",
      "mean   50.000000\n",
      "std    27.386128\n",
      "min    10.000000\n",
      "25%    30.000000\n",
      "50%    50.000000\n",
      "75%    70.000000\n",
      "max    90.000000\n"
     ]
    }
   ],
   "source": [
    "# Import required library\n",
    "import pandas as pd\n",
    "\n",
    "# Create a dataset\n",
    "data = pd.DataFrame({'Value': [10, 20, 30, 40, 50, 60, 70, 80, 90]})\n",
    "\n",
    "# Summarize dataset\n",
    "summary = data.describe()\n",
    "\n",
    "# Print summary\n",
    "print(\"Descriptive Statistics:\\n\", summary)"
   ]
  },
  {
   "cell_type": "code",
   "execution_count": null,
   "id": "525ee34d-9896-4409-af28-5d2acaa366a1",
   "metadata": {},
   "outputs": [],
   "source": []
  },
  {
   "cell_type": "markdown",
   "id": "bc2168a6-b3ee-4c78-987c-e68781663d50",
   "metadata": {},
   "source": [
    "### Q16.> Plot a boxplot to understand the spread and identify outliers."
   ]
  },
  {
   "cell_type": "code",
   "execution_count": 20,
   "id": "b1c360a7-db19-46c7-8736-c0531e11f5dc",
   "metadata": {},
   "outputs": [
    {
     "data": {
      "image/png": "[encoded data removed]",
      "text/plain": [
       "<Figure size 640x480 with 1 Axes>"
      ]
     },
     "metadata": {},
     "output_type": "display_data"
    }
   ],
   "source": [
    "# Import required library\n",
    "import matplotlib.pyplot as plt\n",
    "\n",
    "# Define a dataset\n",
    "data = [5, 7, 8, 9, 10, 11, 12, 14, 100]  # 100 is an outlier\n",
    "\n",
    "# Plot a boxplot\n",
    "plt.boxplot(data, vert=False, patch_artist=True)\n",
    "plt.title('Boxplot to Identify Outliers')\n",
    "plt.xlabel('Value')\n",
    "plt.show()"
   ]
  },
  {
   "cell_type": "code",
   "execution_count": null,
   "id": "dd70fcd4-52d8-445c-870b-eb11f170c6ab",
   "metadata": {},
   "outputs": [],
   "source": []
  },
  {
   "cell_type": "markdown",
   "id": "62e93ea2-00d2-40f6-81a3-4dab8f9ac578",
   "metadata": {},
   "source": [
    "### Q17.Calculate the interquartile range (IQR) of a dataset."
   ]
  },
  {
   "cell_type": "code",
   "execution_count": 21,
   "id": "b4a73db9-3991-4ae0-b00b-9858f8a80cc9",
   "metadata": {},
   "outputs": [
    {
     "name": "stdout",
     "output_type": "stream",
     "text": [
      "Q1: 8.0, Q3: 12.0, IQR: 4.0\n"
     ]
    }
   ],
   "source": [
    "# Import required library\n",
    "import numpy as np\n",
    "\n",
    "# Define a dataset\n",
    "data = [5, 7, 8, 9, 10, 11, 12, 14, 100]\n",
    "\n",
    "# Calculate Q1, Q3, and IQR\n",
    "q1 = np.percentile(data, 25)\n",
    "q3 = np.percentile(data, 75)\n",
    "iqr = q3 - q1\n",
    "\n",
    "# Print results\n",
    "print(f\"Q1: {q1}, Q3: {q3}, IQR: {iqr}\")"
   ]
  },
  {
   "cell_type": "code",
   "execution_count": null,
   "id": "893a7a64-92f0-4bb9-8019-ab0d6e539693",
   "metadata": {},
   "outputs": [],
   "source": []
  },
  {
   "cell_type": "markdown",
   "id": "0d05377c-a006-4b5d-a60f-130d925ce0ff",
   "metadata": {},
   "source": [
    "### Q18.Implement Z-score normalization and explain its significance."
   ]
  },
  {
   "cell_type": "code",
   "execution_count": 22,
   "id": "ad6a1971-0a22-452f-9069-b35f5d06fb9f",
   "metadata": {},
   "outputs": [
    {
     "name": "stdout",
     "output_type": "stream",
     "text": [
      "Original Data: [10, 20, 30, 40, 50]\n",
      "Z-Scores: [np.float64(-1.414213562373095), np.float64(-0.7071067811865475), np.float64(0.0), np.float64(0.7071067811865475), np.float64(1.414213562373095)]\n"
     ]
    }
   ],
   "source": [
    "# Import required library\n",
    "import numpy as np\n",
    "\n",
    "# Define a dataset\n",
    "data = [10, 20, 30, 40, 50]\n",
    "\n",
    "# Calculate mean and standard deviation\n",
    "mean = np.mean(data)\n",
    "std_dev = np.std(data)\n",
    "\n",
    "# Apply Z-score normalization\n",
    "z_scores = [(x - mean) / std_dev for x in data]\n",
    "\n",
    "# Print results\n",
    "print(\"Original Data:\", data)\n",
    "print(\"Z-Scores:\", z_scores)"
   ]
  },
  {
   "cell_type": "code",
   "execution_count": null,
   "id": "d6d4d9be-5a6f-4889-b506-b87a468e769e",
   "metadata": {},
   "outputs": [],
   "source": []
  },
  {
   "cell_type": "markdown",
   "id": "43205c3e-853f-41ba-9666-7ac155610b35",
   "metadata": {},
   "source": [
    "### Q19.Compare two datasets using their standard deviations."
   ]
  },
  {
   "cell_type": "code",
   "execution_count": 23,
   "id": "33801390-e050-4967-8ac7-49ab95aebbd0",
   "metadata": {},
   "outputs": [
    {
     "name": "stdout",
     "output_type": "stream",
     "text": [
      "Standard Deviation of Data1: 2.8284271247461903\n",
      "Standard Deviation of Data2: 5.035871324805669\n"
     ]
    }
   ],
   "source": [
    "# Import required library\n",
    "import numpy as np\n",
    "\n",
    "# Define two datasets\n",
    "data1 = [10, 12, 14, 16, 18]\n",
    "data2 = [8, 9, 12, 15, 22]\n",
    "\n",
    "# Calculate standard deviations\n",
    "std_dev1 = np.std(data1)\n",
    "std_dev2 = np.std(data2)\n",
    "\n",
    "# Print comparison\n",
    "print(f\"Standard Deviation of Data1: {std_dev1}\")\n",
    "print(f\"Standard Deviation of Data2: {std_dev2}\")"
   ]
  },
  {
   "cell_type": "code",
   "execution_count": null,
   "id": "2d963fa8-1c34-4e91-a050-0667b975950b",
   "metadata": {},
   "outputs": [],
   "source": []
  },
  {
   "cell_type": "markdown",
   "id": "0906e7ea-0c1f-4593-912c-c5b9426f5c2f",
   "metadata": {},
   "source": [
    "### Q20.Write a Python program to visualize covariance using a heatmap?\n"
   ]
  },
  {
   "cell_type": "code",
   "execution_count": 24,
   "id": "401d6e36-cbcc-4bbb-8905-6f9a4c335148",
   "metadata": {},
   "outputs": [
    {
     "data": {
      "image/png": "[encoded data removed]",
      "text/plain": [
       "<Figure size 640x480 with 2 Axes>"
      ]
     },
     "metadata": {},
     "output_type": "display_data"
    }
   ],
   "source": [
    "# Import required libraries\n",
    "import seaborn as sns\n",
    "import pandas as pd\n",
    "import numpy as np\n",
    "\n",
    "# Define a dataset\n",
    "data = pd.DataFrame({\n",
    "    'A': np.random.randint(1, 100, 10),\n",
    "    'B': np.random.randint(1, 100, 10)\n",
    "})\n",
    "\n",
    "# Calculate covariance\n",
    "cov_matrix = data.cov()\n",
    "\n",
    "# Visualize covariance using heatmap\n",
    "sns.heatmap(cov_matrix, annot=True, cmap=\"coolwarm\")\n",
    "plt.title('Covariance Heatmap')\n",
    "plt.show()"
   ]
  },
  {
   "cell_type": "code",
   "execution_count": null,
   "id": "f7398643-5acf-405a-a9f5-243836120ddb",
   "metadata": {},
   "outputs": [],
   "source": []
  },
  {
   "cell_type": "markdown",
   "id": "3cdb7b22-aca1-4ddf-be50-21d117bea165",
   "metadata": {},
   "source": [
    "### Q21.Use seaborn to create a correlation matrix for a dataset."
   ]
  },
  {
   "cell_type": "code",
   "execution_count": 25,
   "id": "5569abe0-c710-4021-9fb5-1bc34c10ed74",
   "metadata": {},
   "outputs": [
    {
     "data": {
      "image/png": "[encoded data removed]",
      "text/plain": [
       "<Figure size 640x480 with 2 Axes>"
      ]
     },
     "metadata": {},
     "output_type": "display_data"
    }
   ],
   "source": [
    "# Import required libraries\n",
    "import seaborn as sns\n",
    "import pandas as pd\n",
    "import numpy as np\n",
    "import matplotlib.pyplot as plt\n",
    "\n",
    "# Create a dataset\n",
    "data = pd.DataFrame({\n",
    "    'A': np.random.randint(1, 100, 50),\n",
    "    'B': np.random.randint(1, 100, 50),\n",
    "    'C': np.random.randint(1, 100, 50),\n",
    "    'D': np.random.randint(1, 100, 50)\n",
    "})\n",
    "\n",
    "# Calculate the correlation matrix\n",
    "corr_matrix = data.corr()\n",
    "\n",
    "# Create a heatmap for the correlation matrix\n",
    "sns.heatmap(corr_matrix, annot=True, cmap=\"coolwarm\", linewidths=1)\n",
    "plt.title(\"Correlation Matrix\")\n",
    "plt.show()"
   ]
  },
  {
   "cell_type": "code",
   "execution_count": null,
   "id": "7616ac5b-e605-4bf8-bf78-8fb66fc5e848",
   "metadata": {},
   "outputs": [],
   "source": []
  },
  {
   "cell_type": "markdown",
   "id": "1fc774f6-dee8-4af0-8b01-d64a010792cb",
   "metadata": {},
   "source": [
    "### Q22.Generate a dataset and implement both variance and standard deviation computations.\n"
   ]
  },
  {
   "cell_type": "code",
   "execution_count": 26,
   "id": "64a47615-6795-42ef-a033-e96130c3dfdf",
   "metadata": {},
   "outputs": [
    {
     "name": "stdout",
     "output_type": "stream",
     "text": [
      "Variance: 821.44\n",
      "Standard Deviation: 28.66077458827657\n"
     ]
    }
   ],
   "source": [
    "# Import required library\n",
    "import numpy as np\n",
    "\n",
    "# Generate a random dataset\n",
    "data = np.random.randint(1, 100, 50)\n",
    "\n",
    "# Compute variance and standard deviation\n",
    "variance = np.var(data)\n",
    "std_dev = np.std(data)\n",
    "\n",
    "# Print results\n",
    "print(f\"Variance: {variance}\")\n",
    "print(f\"Standard Deviation: {std_dev}\")"
   ]
  },
  {
   "cell_type": "code",
   "execution_count": null,
   "id": "c53af228-f18d-4fa3-8333-b9a6c34c2c38",
   "metadata": {},
   "outputs": [],
   "source": []
  },
  {
   "cell_type": "markdown",
   "id": "224b6905-16d4-47f8-a476-4980bfd23ea5",
   "metadata": {},
   "source": [
    "### Q23.Visualize skewness and kurtosis using Python libraries like matplotlib or seaborn."
   ]
  },
  {
   "cell_type": "code",
   "execution_count": 27,
   "id": "9db0ca57-a2eb-48e5-9da8-3dbf43d48312",
   "metadata": {},
   "outputs": [
    {
     "data": {
      "image/png": "[encoded data removed]",
      "text/plain": [
       "<Figure size 640x480 with 1 Axes>"
      ]
     },
     "metadata": {},
     "output_type": "display_data"
    },
    {
     "name": "stdout",
     "output_type": "stream",
     "text": [
      "Skewness: 1.8379669391986164\n",
      "Kurtosis: 4.499401530913261\n"
     ]
    }
   ],
   "source": [
    "# Import required libraries\n",
    "import seaborn as sns\n",
    "import matplotlib.pyplot as plt\n",
    "from scipy.stats import kurtosis, skew\n",
    "import numpy as np\n",
    "\n",
    "# Create a random dataset with skewness\n",
    "data = np.random.exponential(scale=2, size=1000)\n",
    "\n",
    "# Plot histogram\n",
    "sns.histplot(data, kde=True)\n",
    "plt.title(\"Histogram with KDE to visualize Skewness\")\n",
    "plt.show()\n",
    "\n",
    "# Calculate skewness and kurtosis\n",
    "data_skewness = skew(data)\n",
    "data_kurtosis = kurtosis(data)\n",
    "\n",
    "# Print results\n",
    "print(f\"Skewness: {data_skewness}\")\n",
    "print(f\"Kurtosis: {data_kurtosis}\")"
   ]
  },
  {
   "cell_type": "code",
   "execution_count": null,
   "id": "d8657755-dc72-4bd6-be53-6531da18c4ea",
   "metadata": {},
   "outputs": [],
   "source": []
  },
  {
   "cell_type": "markdown",
   "id": "68c1c244-96e7-45f4-aff9-79382c6f73ce",
   "metadata": {},
   "source": [
    "### Q24. Implement the Pearson and Spearman correlation coefficients for a dataset."
   ]
  },
  {
   "cell_type": "code",
   "execution_count": 28,
   "id": "6c27ae4d-a7c5-4948-a39a-5852d45e1429",
   "metadata": {},
   "outputs": [
    {
     "name": "stdout",
     "output_type": "stream",
     "text": [
      "Pearson Correlation: 0.9999999999999996\n",
      "Spearman Correlation: 0.9999999999999999\n"
     ]
    }
   ],
   "source": [
    "# Import required libraries\n",
    "import pandas as pd\n",
    "from scipy.stats import pearsonr, spearmanr\n",
    "\n",
    "# Create a dataset\n",
    "data = pd.DataFrame({\n",
    "    'X': [10, 20, 30, 40, 50],\n",
    "    'Y': [15, 25, 35, 45, 55]\n",
    "})\n",
    "\n",
    "# Pearson correlation\n",
    "pearson_corr, _ = pearsonr(data['X'], data['Y'])\n",
    "\n",
    "# Spearman correlation\n",
    "spearman_corr, _ = spearmanr(data['X'], data['Y'])\n",
    "\n",
    "# Print results\n",
    "print(f\"Pearson Correlation: {pearson_corr}\")\n",
    "print(f\"Spearman Correlation: {spearman_corr}\")"
   ]
  },
  {
   "cell_type": "code",
   "execution_count": null,
   "id": "f2e29e04-2dbd-4f52-92fb-a83e17c66447",
   "metadata": {},
   "outputs": [],
   "source": []
  },
  {
   "cell_type": "markdown",
   "id": "79dc0e79-6c70-45e1-8ed9-71bdc2115f29",
   "metadata": {},
   "source": [
    "# Thank You"
   ]
  }
 ],
 "metadata": {
  "kernelspec": {
   "display_name": "Python 3 (ipykernel)",
   "language": "python",
   "name": "python3"
  },
  "language_info": {
   "codemirror_mode": {
    "name": "ipython",
    "version": 3
   },
   "file_extension": ".py",
   "mimetype": "text/x-python",
   "name": "python",
   "nbconvert_exporter": "python",
   "pygments_lexer": "ipython3",
   "version": "3.13.3"
  }
 },
 "nbformat": 4,
 "nbformat_minor": 5
}
